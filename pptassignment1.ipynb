{
 "cells": [
  {
   "cell_type": "markdown",
   "id": "c3246f01-87e9-40e2-b1e2-631bb5674d98",
   "metadata": {},
   "source": [
    "### 1.Given an array of integers nums and an integer target, return indices of the two numbers such that they add up to target.You may assume that each input would have exactly one solution, and you may not use the same element twice.You can return the answer in any order."
   ]
  },
  {
   "cell_type": "code",
   "execution_count": 28,
   "id": "19c567f6-9d71-463b-b95c-08cf02dc3916",
   "metadata": {},
   "outputs": [
    {
     "name": "stdout",
     "output_type": "stream",
     "text": [
      "[0, 1]\n"
     ]
    }
   ],
   "source": [
    "def twosum(nums,target):\n",
    "    hashmap = {}\n",
    "    for i, num in enumerate(nums):\n",
    "        complement = target - num\n",
    "        if complement in hashmap: #if complement exists return indices\n",
    "            return [hashmap[complement],i]\n",
    "        hashmap[num] = i  #storing current number and its indices if complement not exist\n",
    "    return []\n",
    "nums=[2,7,11,15]\n",
    "result=twosum(nums,9)\n",
    "print(result)"
   ]
  },
  {
   "cell_type": "markdown",
   "id": "e8738f8d-6a3d-404c-b0ed-187c08ff536e",
   "metadata": {},
   "source": [
    "### 2.Given an integer array nums and an integer val, remove all occurrences of val in nums in-place. The order of the elements may be changed. Then return the number of elements in nums which are not equal to val.Consider the number of elements in nums which are not equal to val be k, to get accepted, you need to do the following things:\n",
    "- Change the array nums such that the first k elements of nums contain the elements which are not equal to val. The remaining elements of nums are not important as well as the size of nums.\n",
    "- Return k."
   ]
  },
  {
   "cell_type": "code",
   "execution_count": 31,
   "id": "fa712a15-b954-48f7-b391-961530e4192d",
   "metadata": {},
   "outputs": [
    {
     "name": "stdout",
     "output_type": "stream",
     "text": [
      "2\n",
      "[2, 2]\n"
     ]
    }
   ],
   "source": [
    "def removeelement(nums,val):\n",
    "    i = 0\n",
    "    for j in range(len(nums)):\n",
    "        if nums[j] != val:\n",
    "            nums[i] = nums[j]\n",
    "            i += 1\n",
    "    return i\n",
    "nums = [3,2,2,3]\n",
    "val = 3\n",
    "k = removeelement(nums, val)\n",
    "print(k)  \n",
    "print(nums[:k])  "
   ]
  },
  {
   "cell_type": "code",
   "execution_count": 30,
   "id": "fcc5ad49-5700-4620-ad31-513e0dadfaef",
   "metadata": {},
   "outputs": [
    {
     "name": "stdout",
     "output_type": "stream",
     "text": [
      "3\n",
      "[3, 3, 4]\n"
     ]
    }
   ],
   "source": [
    "nums = [3,2,2,3,2,4]\n",
    "val = 2\n",
    "k = removeelement(nums,val)\n",
    "print(k)  \n",
    "print(nums[:k])  "
   ]
  },
  {
   "cell_type": "code",
   "execution_count": null,
   "id": "94235eee-2089-4614-80ec-d95cf793c767",
   "metadata": {},
   "outputs": [],
   "source": [
    "### 3.Given a sorted array of distinct integers and a target value, return the index if the target is found. If not, return the index where it would be if it were inserted in order.\n",
    "You must write an algorithm with O(log n) runtime complexity."
   ]
  },
  {
   "cell_type": "code",
   "execution_count": 63,
   "id": "52640657-5199-41c5-82b0-cdeec6096c54",
   "metadata": {},
   "outputs": [
    {
     "name": "stdout",
     "output_type": "stream",
     "text": [
      "2\n"
     ]
    }
   ],
   "source": [
    "def searchninsert(nums,target):\n",
    "    left, right = 0, len(nums) - 1 ##setting two pointers \n",
    "    for _ in range(len(nums)):         ## '_' as the result have to give only index\n",
    "        mid = left + (right - left) //2\n",
    "        if nums[mid] == target:\n",
    "            return mid\n",
    "        elif nums[mid] < target:\n",
    "            left = mid + 1\n",
    "        else:\n",
    "            right = mid - 1\n",
    "    return left\n",
    "\n",
    "nums = [1,3,5,6] #sorted array\n",
    "target = 5\n",
    "index = searchninsert(nums,target)\n",
    "print(index)  \n"
   ]
  },
  {
   "cell_type": "code",
   "execution_count": 40,
   "id": "b4a91be2-0d50-4ca5-96cb-7e6964c376c6",
   "metadata": {},
   "outputs": [
    {
     "name": "stdout",
     "output_type": "stream",
     "text": [
      "4\n"
     ]
    }
   ],
   "source": [
    "nums = [1,3,5,6]\n",
    "target = 7\n",
    "index = searchninsert(nums,target)\n",
    "print(index)  "
   ]
  },
  {
   "cell_type": "markdown",
   "id": "084a3b46-eeb6-40d0-8cb4-4888b27824af",
   "metadata": {},
   "source": [
    "#### The time complexity code is O(log n) because the number of iterations is determined by the binary search algorithm, which performs a logarithmic number of step"
   ]
  },
  {
   "cell_type": "markdown",
   "id": "2c944a3f-a261-412b-8967-1e94b966b5b0",
   "metadata": {},
   "source": [
    "### 4.You are given a large integer represented as an integer array digits, where each digits[i] is the ith digit of the integer. The digits are ordered from most significant to least significant in left-to-right order. The large integer does not contain any leading 0's Increment the large integer by one and return the resulting array of digits."
   ]
  },
  {
   "cell_type": "code",
   "execution_count": 51,
   "id": "c6ec24a7-15d9-40a1-bf11-230fbbf36d76",
   "metadata": {},
   "outputs": [
    {
     "name": "stdout",
     "output_type": "stream",
     "text": [
      "[1, 0, 0, 0, 0]\n"
     ]
    }
   ],
   "source": [
    "def addingone(digits):\n",
    "    carry= 1\n",
    "    for i in range(len(digits)-1,-1,-1):\n",
    "        carry+=digits[i]\n",
    "        digits[i]= carry %10\n",
    "        carry//= 10\n",
    "\n",
    "    if carry:\n",
    "        digits.insert(0,carry)\n",
    "    return digits\n",
    "\n",
    "digits= [9,9,9,9]\n",
    "result= addingone(digits)\n",
    "print(result)"
   ]
  },
  {
   "cell_type": "markdown",
   "id": "35e14d4a-a8bf-4d63-ba34-9a5e4b48d439",
   "metadata": {},
   "source": [
    "### 5.You are given two integer arrays nums1 and nums2, sorted in non-decreasing order, and two integers m and n, representing the number of elements in nums1 and nums2 respectively.\n",
    "Merge nums1 and nums2 into a single array sorted in non-decreasing order.\n",
    "The final sorted array should not be returned by the function, but instead be stored inside the array nums1. To accommodate this, nums1 has a length of m + n, where the first m elements denote the elements that should be merged, and the last n elements are set to 0 and should be ignored. nums2 has a length of n.\n"
   ]
  },
  {
   "cell_type": "code",
   "execution_count": 78,
   "id": "712f522b-36fb-46a2-8c6a-354c78af98a8",
   "metadata": {},
   "outputs": [
    {
     "name": "stdout",
     "output_type": "stream",
     "text": [
      "[1, 2, 2, 3, 5, 6]\n"
     ]
    }
   ],
   "source": [
    "def merging(nums1, m, nums2, n):\n",
    "    p1 = m - 1  ## setting three pointers\n",
    "    p2 = n - 1\n",
    "    p = m + n - 1\n",
    "\n",
    "    for _ in range(m + n):          ## '_' used as the resultent have to discarded  \n",
    "        if p1 >= 0 and p2 >= 0:\n",
    "            if nums1[p1] > nums2[p2]:\n",
    "                nums1[p] = nums1[p1]\n",
    "                p1 -= 1\n",
    "            else:\n",
    "                nums1[p] = nums2[p2]\n",
    "                p2 -= 1\n",
    "        else:\n",
    "            break\n",
    "        p-=1\n",
    "\n",
    "nums1 = [1,2,3,0,0,0]\n",
    "m = 3\n",
    "nums2 = [2,5,6]\n",
    "n = 3\n",
    "merging(nums1,m,nums2,n)\n",
    "print(nums1)"
   ]
  },
  {
   "cell_type": "code",
   "execution_count": 80,
   "id": "8a1f0856-ff59-4e22-ab58-1b9728e2bf11",
   "metadata": {},
   "outputs": [
    {
     "name": "stdout",
     "output_type": "stream",
     "text": [
      "[1, 2, 2, 5, 0, 0]\n"
     ]
    }
   ],
   "source": [
    "nums1 = [1,2,3,0,0,0]\n",
    "m =2\n",
    "nums2 = [2,5,6]\n",
    "n =2\n",
    "merging(nums1,m,nums2,n)\n",
    "print(nums1)"
   ]
  },
  {
   "cell_type": "markdown",
   "id": "29a55f79-750d-4a39-b580-071d7fc234e7",
   "metadata": {},
   "source": [
    "### 6.Given an integer array nums, return true if any value appears at least twice in the array, and return false if every element is distinct."
   ]
  },
  {
   "cell_type": "code",
   "execution_count": 91,
   "id": "3e209ca3-3055-420d-83db-a9fc74845b9e",
   "metadata": {},
   "outputs": [
    {
     "name": "stdout",
     "output_type": "stream",
     "text": [
      "True\n"
     ]
    }
   ],
   "source": [
    "def checkduplicate(nums):\n",
    "    yes=set()\n",
    "    for i in nums:\n",
    "        if i in yes:\n",
    "            return True\n",
    "        yes.add(i)\n",
    "    return False\n",
    "\n",
    "nums=[1,2,3,1]\n",
    "result=checkduplicate(nums)\n",
    "print(result)"
   ]
  },
  {
   "cell_type": "code",
   "execution_count": 92,
   "id": "e3437b11-1e6a-4e9c-8c41-34328ab08860",
   "metadata": {},
   "outputs": [
    {
     "name": "stdout",
     "output_type": "stream",
     "text": [
      "False\n"
     ]
    }
   ],
   "source": [
    "nums=[1,2,3,4,5]\n",
    "result=checkduplicate(nums)\n",
    "print(result)"
   ]
  },
  {
   "cell_type": "markdown",
   "id": "84190012-6526-4703-b13a-0ad7e757a6d1",
   "metadata": {},
   "source": [
    "### 7.Given an integer array nums, move all 0's to the end of it while maintaining the relative order of the nonzero elements.\n",
    "Note that you must do this in-place without making a copy of the array"
   ]
  },
  {
   "cell_type": "code",
   "execution_count": 98,
   "id": "b2a46da5-2428-4404-a083-5f0a3ce5433f",
   "metadata": {},
   "outputs": [
    {
     "name": "stdout",
     "output_type": "stream",
     "text": [
      "[1, 3, 12, 0, 0]\n"
     ]
    }
   ],
   "source": [
    "def shiftzeros(nums):\n",
    "    left=0\n",
    "        \n",
    "    for right in range(len(nums)):\n",
    "        if nums[right]!=0:\n",
    "            nums[left],nums[right]=nums[right],nums[left]\n",
    "            left+=1\n",
    "    nums[left:] = [0] * (len(nums) - left)\n",
    "        \n",
    "nums = [0, 1, 0, 3, 12]\n",
    "shiftzeros(nums)\n",
    "print(nums)"
   ]
  },
  {
   "cell_type": "markdown",
   "id": "567877c0-9734-4103-8f82-63cdffe98631",
   "metadata": {},
   "source": [
    "### 8.You have a set of integers s, which originally contains all the numbers from 1 to n. Unfortunately, due to some error, one of the numbers in s got duplicated to another number in the set, which results in repetition of one number and loss of another number.\n",
    "You are given an integer array nums representing the data status of this set after the error.\n",
    "Find the number that occurs twice and the number that is missing and return them in the form of an array.\n"
   ]
  },
  {
   "cell_type": "code",
   "execution_count": 108,
   "id": "aac9c5f7-55d4-4ee0-9ea2-0670fae58870",
   "metadata": {},
   "outputs": [
    {
     "name": "stdout",
     "output_type": "stream",
     "text": [
      "[2, 3]\n"
     ]
    }
   ],
   "source": [
    "def checkerrorduplicte(nums):\n",
    "    seen=set()\n",
    "    duplicate=0\n",
    "    missing=0\n",
    "    for i in nums:\n",
    "        if i in seen:\n",
    "            duplicate=i\n",
    "        seen.add(i)\n",
    "    n=len(nums)\n",
    "    expected_sum=n*(n+1)//2\n",
    "    actual_sum=sum(nums)\n",
    "    missing = expected_sum - actual_sum + duplicate\n",
    "    return [duplicate,missing]\n",
    "\n",
    "nums=[1,2,2,4]\n",
    "result=checkerrorduplicte(nums)\n",
    "print(result)"
   ]
  },
  {
   "cell_type": "code",
   "execution_count": 116,
   "id": "d8f1d52a-9fcc-4c28-a263-85e45776e0b3",
   "metadata": {},
   "outputs": [
    {
     "name": "stdout",
     "output_type": "stream",
     "text": [
      "[3, 5]\n"
     ]
    }
   ],
   "source": [
    "nums=[1,2,3,3,4]\n",
    "result=checkerrorduplicte(nums)\n",
    "print(result)"
   ]
  },
  {
   "cell_type": "code",
   "execution_count": 120,
   "id": "7e8b0a42-1c07-45de-bcba-9866c6876d48",
   "metadata": {},
   "outputs": [
    {
     "name": "stdout",
     "output_type": "stream",
     "text": [
      "[3, 3]\n"
     ]
    }
   ],
   "source": [
    "nums=[1,2,3,3,6]\n",
    "result=checkerrorduplicte(nums)\n",
    "print(result)"
   ]
  },
  {
   "cell_type": "code",
   "execution_count": null,
   "id": "a6e616c2-2a88-4600-b1e7-ce0af4fcfa4a",
   "metadata": {},
   "outputs": [],
   "source": []
  }
 ],
 "metadata": {
  "kernelspec": {
   "display_name": "Python 3 (ipykernel)",
   "language": "python",
   "name": "python3"
  },
  "language_info": {
   "codemirror_mode": {
    "name": "ipython",
    "version": 3
   },
   "file_extension": ".py",
   "mimetype": "text/x-python",
   "name": "python",
   "nbconvert_exporter": "python",
   "pygments_lexer": "ipython3",
   "version": "3.10.8"
  }
 },
 "nbformat": 4,
 "nbformat_minor": 5
}
