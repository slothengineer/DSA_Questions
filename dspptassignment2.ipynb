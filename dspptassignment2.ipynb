{
 "cells": [
  {
   "cell_type": "code",
   "execution_count": 35,
   "id": "e80424f0-9efa-4514-8fb7-1fca233e2458",
   "metadata": {},
   "outputs": [
    {
     "name": "stdout",
     "output_type": "stream",
     "text": [
      "Mean sales of Region_A: 11.8\n",
      "Mean sales of Region_B: 20.2\n"
     ]
    }
   ],
   "source": [
    "#1. Scenario: A company wants to analyze the sales performance of its products in different regions. They have collected the following data: Calculate the mean sales for each region.\n",
    "Region_A=[10, 15, 12, 8, 14]\n",
    "Region_B=[18, 20, 16, 22, 25]\n",
    "\n",
    "import statistics\n",
    "mean_regionA=statistics.mean(Region_A)\n",
    "mean_regionB=statistics.mean(Region_B)\n",
    "\n",
    "print(\"Mean sales of Region_A:\",mean_regionA)\n",
    "print(\"Mean sales of Region_B:\",mean_regionB)"
   ]
  },
  {
   "cell_type": "code",
   "execution_count": 36,
   "id": "d492626d-dbb5-4fd7-994f-be5a202ffafe",
   "metadata": {},
   "outputs": [
    {
     "name": "stdout",
     "output_type": "stream",
     "text": [
      "Mode of the survey responses: 4\n"
     ]
    }
   ],
   "source": [
    "#2. Scenario: A survey is conducted to measure customer satisfaction on a scale of 1 to 5. The data collected is as follows: Calculate the mode of the survey responses.\n",
    "survey_data=[4, 5, 2, 3, 5, 4, 3, 2, 4, 5]\n",
    "\n",
    "mode_of_survey=statistics.mode(survey_data)\n",
    "\n",
    "print(\"Mode of the survey responses:\",mode_of_survey)"
   ]
  },
  {
   "cell_type": "code",
   "execution_count": 37,
   "id": "2c3ed668-3042-4829-a3f0-ab1fdea9a293",
   "metadata": {},
   "outputs": [
    {
     "name": "stdout",
     "output_type": "stream",
     "text": [
      "Median of department_a:5750.0\n",
      "Median of department_b:5500\n"
     ]
    }
   ],
   "source": [
    "#3. Scenario: A company wants to compare the salaries of two departments. The salary data for Department A and Department B are as follows: Calculate the median salary for each department.\n",
    "\n",
    "Department_A=[5000, 6000, 5500, 7000]\n",
    "Department_B=[4500, 5500, 5800, 6000, 5200]\n",
    "\n",
    "median_a=statistics.median(Department_A)\n",
    "median_b=statistics.median(Department_B)\n",
    "\n",
    "print('Median of department_a:{}'.format(median_a))\n",
    "print('Median of department_b:{}'.format(median_b))"
   ]
  },
  {
   "cell_type": "code",
   "execution_count": 38,
   "id": "7febf359-12e9-4a59-bfe8-1d432a7aa86b",
   "metadata": {},
   "outputs": [
    {
     "name": "stdout",
     "output_type": "stream",
     "text": [
      "Variabilty of stock prices:0.2720000000000007\n"
     ]
    }
   ],
   "source": [
    "#4. Scenario: A data analyst wants to determine the variability in the daily stock prices of a company. The data collected is as follows: Calculate the range of the stock prices\n",
    "\n",
    "stock_prices=[25.5, 24.8, 26.1, 25.3, 24.9]\n",
    "\n",
    "\n",
    "variability=statistics.variance(stock_prices)\n",
    "print(f'Variabilty of stock prices:{variability}')"
   ]
  },
  {
   "cell_type": "code",
   "execution_count": 39,
   "id": "f33e4f39-4cd7-41b1-8867-8c00848af2f5",
   "metadata": {},
   "outputs": [
    {
     "name": "stdout",
     "output_type": "stream",
     "text": [
      "t-statsistics:1.4312528946642733\n",
      "p_value:0.19023970239078333\n"
     ]
    }
   ],
   "source": [
    "#5. Scenario: A study is conducted to compare the performance of two different teaching methods. The test scores of the students in each group are as follows: Perform a t-test to determine if there is a significant difference in the mean scores between the two groups.\n",
    "\n",
    "Group_A=[85, 90, 92, 88, 91]\n",
    "Group_B=[82, 88, 90, 86, 87]\n",
    "\n",
    "from scipy import stats\n",
    "\n",
    "t_statistics,p_value=stats.ttest_ind(Group_A,Group_B)\n",
    "\n",
    "print(f\"t-statsistics:{t_statistics}\")\n",
    "print(\"p_value:{}\".format(p_value))"
   ]
  },
  {
   "cell_type": "code",
   "execution_count": 40,
   "id": "258d36be-b791-40c0-9283-722afccddd37",
   "metadata": {},
   "outputs": [
    {
     "name": "stdout",
     "output_type": "stream",
     "text": [
      "Correlation_coefficient: 0.8757511375750132\n"
     ]
    }
   ],
   "source": [
    "#6. Scenario: A company wants to analyze the relationship between advertising expenditure and sales. The data collected is as follows:Calculate the correlation coefficient between advertising expenditure and sales.\n",
    "Advertising_Expenditure=[10, 15, 12, 8, 14]\n",
    "Sales=[25, 30, 28, 20, 26]\n",
    "\n",
    "import numpy as np\n",
    "\n",
    "correlation_coefficient=np.corrcoef(Advertising_Expenditure,Sales)[0,1]   ##first form correlation matrix to chnage to single value [0,1]\n",
    "\n",
    "print('Correlation_coefficient:',correlation_coefficient)\n"
   ]
  },
  {
   "cell_type": "code",
   "execution_count": 41,
   "id": "6c8ba613-3957-4623-91c2-a5ff9a0c8f4e",
   "metadata": {},
   "outputs": [
    {
     "name": "stdout",
     "output_type": "stream",
     "text": [
      "Standar deviation of heights: 8.591246929842246\n"
     ]
    }
   ],
   "source": [
    "#7. Scenario: A survey is conducted to measure the heights of a group of people. The data collected is as follows: Calculate the standard deviation of the heights\n",
    "heights=[160, 170, 165, 155, 175, 180, 170]\n",
    "\n",
    "standard_deviation=statistics.stdev(heights)\n",
    "\n",
    "print('Standar deviation of heights:',standard_deviation)\n",
    "   \n"
   ]
  },
  {
   "cell_type": "code",
   "execution_count": 42,
   "id": "b289f462-ed26-4e14-a2e2-55952ec9a51a",
   "metadata": {},
   "outputs": [
    {
     "name": "stdout",
     "output_type": "stream",
     "text": [
      "Regression line equation: y=-0.4680851063829786*x + 8.595744680851062\n"
     ]
    }
   ],
   "source": [
    "#8. Scenario: A company wants to analyze the relationship between employee tenure(in years) and job satisfaction(on a scale of 1 to 10). The data collected is as follows: Perform a linear regression analysis to predict job satisfaction based on employee tenure\n",
    "Employee_Tenure =[2, 3, 5, 4, 6, 2, 4]\n",
    "Job_Satisfaction =[7, 8, 6, 9, 5, 7, 6]\n",
    "\n",
    "import numpy as np\n",
    "from sklearn.linear_model import LinearRegression\n",
    "\n",
    "x=np.array(Employee_Tenure).reshape((-1,1))\n",
    "y=np.array(Job_Satisfaction)\n",
    "\n",
    "model=LinearRegression()\n",
    "\n",
    "model.fit(x,y)\n",
    "\n",
    "slope=model.coef_[0]\n",
    "intercept=model.intercept_\n",
    "\n",
    "print(\"Regression line equation: y={}*x + {}\".format(slope, intercept))"
   ]
  },
  {
   "cell_type": "code",
   "execution_count": 43,
   "id": "ba42e3a6-d441-4488-81db-92c250c6d54d",
   "metadata": {},
   "outputs": [
    {
     "name": "stdout",
     "output_type": "stream",
     "text": [
      "f_statistics: 16.0\n",
      "p_value: 0.003949772803445326\n"
     ]
    }
   ],
   "source": [
    "#9. Scenario: A study is conducted to compare the effectiveness of two different medications. The recovery times of the patients in each group are as follows:  Perform an analysis of variance (ANOVA) to determine if there is a significant difference in the mean recovery times between the two medications.\n",
    "Medication_A=[10, 12, 14, 11, 13]\n",
    "Medication_B=[15, 17, 16, 14, 18]\n",
    "\n",
    "from scipy import stats\n",
    "\n",
    "f_stats,p_value=stats.f_oneway(Medication_A,Medication_B)\n",
    "\n",
    "print(\"f_statistics:\",f_stats)\n",
    "print(\"p_value:\",p_value)"
   ]
  },
  {
   "cell_type": "code",
   "execution_count": 44,
   "id": "3bf1058e-7758-4150-ba60-a7a080b33cdf",
   "metadata": {},
   "outputs": [
    {
     "name": "stdout",
     "output_type": "stream",
     "text": [
      "75th Percentile:8.75\n"
     ]
    }
   ],
   "source": [
    "#10. Scenario: A company wants to analyze customer feedback ratings on a scale of 1 to 10. The data collected is as follows: Calculate the 75th percentile of the feedback ratings.\n",
    "feedbacks=[8, 9, 7, 6, 8, 10, 9, 8, 7, 8]\n",
    "\n",
    "import numpy as np\n",
    "\n",
    "_75th_percentile=np.percentile(feedbacks,75)\n",
    "\n",
    "print(\"75th Percentile:{}\".format(_75th_percentile))\n",
    "    "
   ]
  },
  {
   "cell_type": "code",
   "execution_count": 45,
   "id": "32a08c1b-8b24-4730-a698-dcfac7cc2f34",
   "metadata": {},
   "outputs": [
    {
     "name": "stdout",
     "output_type": "stream",
     "text": [
      "t_stats: 1.5126584522688367\n",
      "p_value: 0.19077595151110102\n"
     ]
    }
   ],
   "source": [
    "#11. Scenario: A quality control department wants to test the weight consistency of a product. The weights of a sample of products are as follows: Perform a hypothesis test to determine if the mean weight differs significantly from 10 grams.\n",
    "\n",
    "weights=[10.2, 9.8, 10.0, 10.5, 10.3, 10.1]\n",
    "\n",
    "from scipy import stats\n",
    "t_stats,p_value=stats.ttest_1samp(weights,10)\n",
    "\n",
    "print(\"t_stats:\",t_stats)\n",
    "print(\"p_value:\",p_value)"
   ]
  },
  {
   "cell_type": "code",
   "execution_count": 46,
   "id": "2bea8213-d30d-4c0a-bf9f-ed240c210eb9",
   "metadata": {},
   "outputs": [
    {
     "name": "stdout",
     "output_type": "stream",
     "text": [
      "chi2_stats: 6.110658166925435\n",
      "p_value: 0.19103526314060293\n"
     ]
    }
   ],
   "source": [
    "#12. Scenario: A company wants to analyze the click-through rates of two different website designs. The number of clicks for each design is as follows: Perform a chi-square test to determine if there is a significant difference in the click-through rates between the two designs.\n",
    "Design_A=[100, 120, 110, 90, 95]\n",
    "Design_B=[80, 85, 90, 95, 100]\n",
    "\n",
    "import numpy as np\n",
    "from scipy import stats\n",
    "\n",
    "observed=np.array([Design_A,Design_B])\n",
    "chi2_stat,p_value=stats.chi2_contingency(observed)[:2]         ##[:2] to select only two values from returned tuple \n",
    "\n",
    "print(\"chi2_stats:\",chi2_stat)\n",
    "print(\"p_value:\",p_value)"
   ]
  },
  {
   "cell_type": "code",
   "execution_count": 47,
   "id": "22b23f7b-b189-42bb-b962-4517db3654b3",
   "metadata": {},
   "outputs": [
    {
     "name": "stdout",
     "output_type": "stream",
     "text": [
      "confidence_interval-: (7.043561120599888, 8.756438879400113)\n"
     ]
    }
   ],
   "source": [
    "#13. Scenario: A survey is conducted to measure customer satisfaction with a product on a scale of 1 to 10. The data collected is as follows: Calculate the 95% confidence interval for the population mean satisfaction score\n",
    "customer_satisfaction_data=[7, 9, 6, 8, 10, 7, 8, 9, 7, 8]            #****\n",
    "confidence_level=0.95\n",
    "\n",
    "sample_mean=np.mean(customer_satisfaction_data)\n",
    "sample_std=np.std(customer_satisfaction_data,ddof=1)\n",
    "sample_size=len(customer_satisfaction_data)\n",
    "\n",
    "t_critical=stats.t.ppf(1-(1-confidence_level)/2,df=sample_size-1)\n",
    "margin_of_error=t_critical*sample_std/np.sqrt(sample_size)\n",
    "confidence_interval=(sample_mean-margin_of_error,sample_mean+margin_of_error)\n",
    "\n",
    "print(\"confidence_interval-:\",confidence_interval)\n",
    "    \n"
   ]
  },
  {
   "cell_type": "code",
   "execution_count": 48,
   "id": "e37d7863-94d8-448d-be62-d86bd5b6d4a4",
   "metadata": {},
   "outputs": [
    {
     "name": "stdout",
     "output_type": "stream",
     "text": [
      "Regression line equation: y=0.4999999999999999*x + -2.8999999999999986\n"
     ]
    }
   ],
   "source": [
    "#14. Scenario: A company wants to analyze the effect of temperature(in degrees Celsius) on product performance (on a scale of 1 to 10). The data collected is as follows:   Perform a simple linear regression to predict performance based on temperature\n",
    "Temperature=[20, 22, 23, 19, 21]\n",
    "Performance=[8, 7, 9, 6, 8]\n",
    "\n",
    "from sklearn.linear_model import LinearRegression\n",
    "\n",
    "x=np.array(Temperature).reshape((-1,1))\n",
    "y=np.array(Performance)\n",
    "\n",
    "model=LinearRegression()\n",
    "\n",
    "model.fit(x,y)\n",
    "\n",
    "slope=model.coef_[0]\n",
    "intercept=model.intercept_\n",
    "\n",
    "print(\"Regression line equation: y={}*x + {}\".format(slope, intercept))"
   ]
  },
  {
   "cell_type": "code",
   "execution_count": 49,
   "id": "3faa6c32-5216-4a1d-9ae4-e8934bd78fb2",
   "metadata": {},
   "outputs": [
    {
     "name": "stdout",
     "output_type": "stream",
     "text": [
      "Test statistic: 17.0\n",
      "p-value: 0.380836480306712\n"
     ]
    }
   ],
   "source": [
    "#15. Scenario: A study is conducted to compare the preferences of two groups of participants. The preferences are measured on a Likert scale from 1 to 5. The data collected is as follows: Perform a Mann-Whitney U test to determine if there is a significant difference in the median preferences between the two groups.\n",
    "Group_A=[4, 3, 5, 2, 4]\n",
    "Group_B=[3, 2, 4, 3, 3]\n",
    "\n",
    "u_stat,p_value=stats.mannwhitneyu(Group_A,Group_B,alternative='two-sided')\n",
    "\n",
    "print(\"Test statistic:\", u_stat)\n",
    "print(\"p-value:\", p_value)"
   ]
  },
  {
   "cell_type": "code",
   "execution_count": 50,
   "id": "04954a66-aa4c-4f55-bd9e-2fd28b943ab4",
   "metadata": {},
   "outputs": [
    {
     "name": "stdout",
     "output_type": "stream",
     "text": [
      "Interquartile range: 22.5\n"
     ]
    }
   ],
   "source": [
    "#16. Scenario: A company wants to analyze the distribution of customer ages. The data collected is as follows: Calculate the interquartile range (IQR) of the ages.\n",
    "customers_ages=[25, 30, 35, 40, 45, 50, 55, 60, 65, 70]\n",
    "\n",
    "Q1=np.percentile(customers_ages,25)\n",
    "Q3=np.percentile(customers_ages,75)\n",
    "\n",
    "IQR=Q3-Q1\n",
    "\n",
    "print(\"Interquartile range:\",IQR)"
   ]
  },
  {
   "cell_type": "code",
   "execution_count": 51,
   "id": "77731a73-6547-4a59-a194-08412a74743a",
   "metadata": {},
   "outputs": [
    {
     "name": "stdout",
     "output_type": "stream",
     "text": [
      "test statistics: 9.696947935368053\n",
      "p_value 0.007840333026249539\n"
     ]
    }
   ],
   "source": [
    "#17. Scenario: A study is conducted to compare the performance of three different machine learning algorithms. The accuracy scores for each algorithm are as follows: Perform a Kruskal-Wallis test to determine if there is a significant difference in the median accuracy scores between the algorithms\n",
    "Algorithm_A=[0.85, 0.80, 0.82, 0.87, 0.83]\n",
    "Algorithm_B=[0.78, 0.82, 0.84, 0.80, 0.79]\n",
    "Algorithm_C=[0.90, 0.88, 0.89, 0.86, 0.87]\n",
    "\n",
    "statistics,p_value=stats.kruskal(Algorithm_A,Algorithm_B,Algorithm_C)\n",
    "\n",
    "print(\"test statistics:\",statistics)\n",
    "print(\"p_value\",p_value)"
   ]
  },
  {
   "cell_type": "code",
   "execution_count": 52,
   "id": "0f0b13c3-a183-4b98-ac94-9241d91090ef",
   "metadata": {},
   "outputs": [
    {
     "name": "stdout",
     "output_type": "stream",
     "text": [
      "Regression line equation: y=-3.5060975609756095*x + 136.3719512195122\n"
     ]
    }
   ],
   "source": [
    "#18. Scenario: A company wants to analyze the effect of price(in dollars) on sales. The data collected is as follows: Perform a simple linear regression to predict sales based on price.\n",
    "Price=[10, 15, 12, 8, 14]\n",
    "Sales=[100, 80, 90, 110, 95]\n",
    "\n",
    "x=np.array(Price).reshape((-1,1))\n",
    "y=np.array(Sales)\n",
    "\n",
    "model=LinearRegression()\n",
    "\n",
    "model.fit(x,y)\n",
    "\n",
    "slope=model.coef_[0]\n",
    "intercept=model.intercept_\n",
    "\n",
    "print(\"Regression line equation: y={}*x + {}\".format(slope, intercept))\n",
    "\n"
   ]
  },
  {
   "cell_type": "code",
   "execution_count": 53,
   "id": "a5236e8e-3576-4807-a0f8-cf0d5e5844d9",
   "metadata": {},
   "outputs": [
    {
     "name": "stdout",
     "output_type": "stream",
     "text": [
      "Standard Error: 0.30550504633038933\n"
     ]
    }
   ],
   "source": [
    "#19. Scenario: A survey is conducted to measure the satisfaction levels of customers with a new product. The data collected is as follows: Calculate the standard error of the mean satisfaction score.\n",
    "satisfaction_levels=[7, 8, 9, 6, 8, 7, 9, 7, 8, 7]\n",
    "\n",
    "sample_std=np.std(satisfaction_levels,ddof=1)\n",
    "sample_size=len(satisfaction_levels)\n",
    "\n",
    "standard_error=sample_std/np.sqrt(sample_size)\n",
    "\n",
    "print(\"Standard Error:\",standard_error)"
   ]
  },
  {
   "cell_type": "code",
   "execution_count": 54,
   "id": "4e634a2e-5240-464c-b78f-d28bf8241a5b",
   "metadata": {},
   "outputs": [
    {
     "name": "stdout",
     "output_type": "stream",
     "text": [
      "Regression line equation: y=1.152439024390244*x + 12.20121951219512\n"
     ]
    }
   ],
   "source": [
    "#20. Scenario: A company wants to analyze the relationship between advertising expenditure(in thousands) and sales(in thousands). The data collected is as follows:  Perform a multiple regression analysis to predict sales based on advertising expenditure.\n",
    "Advertising_Expenditure=[10, 15, 12, 8, 14]\n",
    "Sales=[25, 30, 28, 20, 26]\n",
    "\n",
    "x=np.array(Advertising_Expenditure).reshape((-1,1))\n",
    "y=np.array(Sales)\n",
    "\n",
    "model=LinearRegression()\n",
    "\n",
    "model.fit(x,y)\n",
    "\n",
    "slope=model.coef_[0]\n",
    "intercept=model.intercept_\n",
    "\n",
    "print(\"Regression line equation: y={}*x + {}\".format(slope, intercept))\n"
   ]
  },
  {
   "cell_type": "code",
   "execution_count": null,
   "id": "cfc3d4c8-1c88-488e-95db-4d6e4fa2b9c4",
   "metadata": {},
   "outputs": [],
   "source": []
  }
 ],
 "metadata": {
  "kernelspec": {
   "display_name": "Python 3 (ipykernel)",
   "language": "python",
   "name": "python3"
  },
  "language_info": {
   "codemirror_mode": {
    "name": "ipython",
    "version": 3
   },
   "file_extension": ".py",
   "mimetype": "text/x-python",
   "name": "python",
   "nbconvert_exporter": "python",
   "pygments_lexer": "ipython3",
   "version": "3.10.8"
  }
 },
 "nbformat": 4,
 "nbformat_minor": 5
}
