{
 "cells": [
  {
   "cell_type": "markdown",
   "id": "35c0376b-327a-42c5-ae10-9705b79b732d",
   "metadata": {},
   "source": [
    "### 1.Given an integer array nums of 2n integers, group these integers into n pairs (a1, b1), (a2, b2),..., (an, bn) such that the sum of min(ai, bi) for all i is maximized. Return the maximized sum."
   ]
  },
  {
   "cell_type": "code",
   "execution_count": 4,
   "id": "febe1701-ff4d-414b-bc56-f3cc0803eea1",
   "metadata": {},
   "outputs": [
    {
     "name": "stdout",
     "output_type": "stream",
     "text": [
      "4\n"
     ]
    }
   ],
   "source": [
    "def max_pairsum(n):\n",
    "    n.sort()\n",
    "    max_sum=0\n",
    "    for i in range(0,len(n),2):     ## 2 denotes step size of '2'\n",
    "        max_sum += n[i]\n",
    "    return max_sum\n",
    "\n",
    "n=[1,4,3,2]\n",
    "print(max_pairsum(n))"
   ]
  },
  {
   "cell_type": "code",
   "execution_count": 5,
   "id": "e9878aeb-dc8a-48cf-b250-3ed101e2fecd",
   "metadata": {},
   "outputs": [
    {
     "name": "stdout",
     "output_type": "stream",
     "text": [
      "5\n"
     ]
    }
   ],
   "source": [
    "def max_pairsum(n):\n",
    "    n.sort()\n",
    "    max_sum=0\n",
    "    for i in range(0,len(n),3):     \n",
    "        max_sum += n[i]\n",
    "    return max_sum\n",
    "\n",
    "n=[1,4,3,6,2,5]\n",
    "print(max_pairsum(n))"
   ]
  },
  {
   "cell_type": "markdown",
   "id": "71f0cc86-1ebf-4221-8c4d-0cc9236b672d",
   "metadata": {},
   "source": [
    "### 2.Alice has n candies, where the ith candy is of type candyType[i]. Alice noticed that she started to gain weight, so she visited a doctor. \n",
    "-The doctor advised Alice to only eat n / 2 of the candies she has (n is always even). Alice likes her candies very much, and she wants to eat the maximum number of different types of candies while still following the doctor's advice. \n",
    "\n",
    "-Given the integer array candyType of length n, return the maximum number of different types of candies she can eat if she only eats n / 2 of them.\n"
   ]
  },
  {
   "cell_type": "code",
   "execution_count": 12,
   "id": "46d65275-e108-4012-b021-09f7238a68da",
   "metadata": {},
   "outputs": [
    {
     "name": "stdout",
     "output_type": "stream",
     "text": [
      "3\n"
     ]
    }
   ],
   "source": [
    "def candy(candytype):\n",
    "    max_candies=len(candytype)//2\n",
    "    unique_candies=len(set(candytype))\n",
    "    return min(max_candies,unique_candies)\n",
    "\n",
    "candytype = [1,1,2,2,3,3]\n",
    "print(candy(candytype))"
   ]
  },
  {
   "cell_type": "code",
   "execution_count": 13,
   "id": "61ce6a92-dabb-4420-a61c-19d00377eea0",
   "metadata": {},
   "outputs": [
    {
     "name": "stdout",
     "output_type": "stream",
     "text": [
      "4\n"
     ]
    }
   ],
   "source": [
    "candytype = [1,1,2,2,3,3,4,5]\n",
    "print(candy(candytype))"
   ]
  },
  {
   "cell_type": "markdown",
   "id": "e731cbb2-ce50-4993-b254-6696ee2f4e33",
   "metadata": {},
   "source": [
    "### 4.You have a long flowerbed in which some of the plots are planted, and some are not.\n",
    "However, flowers cannot be planted in adjacent plots.\n",
    "Given an integer array flowerbed containing 0's and 1's, where 0 means empty and 1 means not empty, and an integer n, return true if n new flowers can be planted in the flowerbed without violating the no-adjacent-flowers rule and false otherwise.\n"
   ]
  },
  {
   "cell_type": "code",
   "execution_count": 17,
   "id": "835baf5b-c3f9-41ec-a1c2-311dca1f9f9f",
   "metadata": {},
   "outputs": [
    {
     "name": "stdout",
     "output_type": "stream",
     "text": [
      "True\n"
     ]
    }
   ],
   "source": [
    "def placingflowers(flowerbed,n):\n",
    "    count=0\n",
    "    for i in  range(len(flowerbed)):\n",
    "        if (\n",
    "            flowerbed[i]==0\n",
    "            and (i==0 or flowerbed[i-1]==0)\n",
    "            and (i==len(flowerbed)-1 or flowerbed[i+1]==0)):\n",
    "            flowerbed[i]=1\n",
    "            count+=1\n",
    "    return count>=n\n",
    "\n",
    "\n",
    "flowerbed=[1,0,0,0,1]\n",
    "n=1\n",
    "print(placingflowers(flowerbed,n))"
   ]
  },
  {
   "cell_type": "code",
   "execution_count": 28,
   "id": "4c47ba78-d794-407a-86d4-88c0983185fd",
   "metadata": {},
   "outputs": [
    {
     "name": "stdout",
     "output_type": "stream",
     "text": [
      "True\n"
     ]
    }
   ],
   "source": [
    "flowerbed=[1,0,0,0,1,0,1,0,0,0,1,0,1]\n",
    "n=2\n",
    "print(placingflowers(flowerbed,n))"
   ]
  },
  {
   "cell_type": "markdown",
   "id": "c8e4c0aa-d2c3-4df5-aef3-4809c576b7fc",
   "metadata": {},
   "source": [
    "### 5.Given an integer array nums, find three numbers whose product is maximum and return the maximum product."
   ]
  },
  {
   "cell_type": "code",
   "execution_count": 29,
   "id": "e339de6d-0c67-4392-9cc2-d61050ab523f",
   "metadata": {},
   "outputs": [
    {
     "name": "stdout",
     "output_type": "stream",
     "text": [
      "6\n"
     ]
    }
   ],
   "source": [
    "def maxproduct(nums):\n",
    "    nums.sort()\n",
    "    n=len(nums)\n",
    "    return max(nums[0]* nums[1]* nums[2], nums[n-3]* nums[n-2]* nums[n-1])\n",
    "\n",
    "nums = [1,2,3]\n",
    "print(maxproduct(nums))"
   ]
  },
  {
   "cell_type": "code",
   "execution_count": 37,
   "id": "09bfa7c9-33b7-43de-a09b-12c9f99ac491",
   "metadata": {},
   "outputs": [
    {
     "name": "stdout",
     "output_type": "stream",
     "text": [
      "15\n"
     ]
    }
   ],
   "source": [
    "nums = [-4,1,3,5,-2]\n",
    "print(maxproduct(nums))"
   ]
  },
  {
   "cell_type": "markdown",
   "id": "75fb22b4-50a2-4f3f-9773-b3b3a19d4882",
   "metadata": {},
   "source": [
    "### 6.Given an array of integers nums which is sorted in ascending order, and an integer target, write a function to search target in nums. If target exists, then return its index. Otherwise,return -1.\n",
    "You must write an algorithm with O(log n) runtime complexity."
   ]
  },
  {
   "cell_type": "code",
   "execution_count": 56,
   "id": "5c8d92b4-c49c-4cbd-a728-b4941a940968",
   "metadata": {},
   "outputs": [
    {
     "name": "stdout",
     "output_type": "stream",
     "text": [
      "4\n"
     ]
    }
   ],
   "source": [
    "def search(nums,target):\n",
    "    left=0\n",
    "    right=len(nums)-1\n",
    "    while left<=right:\n",
    "        mid=left+(right-left)//2\n",
    "        if nums[mid]==target:\n",
    "            return mid\n",
    "        elif nums[mid]<target:\n",
    "            left=mid+1\n",
    "        else:\n",
    "            right=mid-1\n",
    "    return -1\n",
    "\n",
    "\n",
    "nums = [-1,0,3,5,9,12]\n",
    "target = 9\n",
    "print(search(nums,target))"
   ]
  },
  {
   "cell_type": "markdown",
   "id": "5198ac0e-68c3-4479-b5bd-634ad74514cd",
   "metadata": {},
   "source": [
    "### 7.An array is monotonic if it is either monotone increasing or monotone decreasing.An array nums is monotone increasing if for all i <= j, nums[i] <= nums[j]. An array nums is monotone decreasing if for all i <= j, nums[i] >= nums[j].\n",
    "      Given an integer array nums, return true if the given array is monotonic, or false otherwise."
   ]
  },
  {
   "cell_type": "code",
   "execution_count": 72,
   "id": "61c74940-023f-4790-b9aa-b3ae51877052",
   "metadata": {},
   "outputs": [
    {
     "name": "stdout",
     "output_type": "stream",
     "text": [
      "True\n"
     ]
    }
   ],
   "source": [
    "def checkmonotonic(nums):\n",
    "    is_decresing=True\n",
    "    is_incresing=True\n",
    "    for i in range(1,len(nums)):\n",
    "        if nums[i]<nums[i-1]:\n",
    "            is_incresing=False\n",
    "        if nums[i]>nums[i-1]:\n",
    "            is_decresing=False\n",
    "    return is_incresing or is_decresing\n",
    "\n",
    "nums = [1,2,2,3]\n",
    "monotonic =checkmonotonic(nums)\n",
    "print(monotonic)"
   ]
  }
 ],
 "metadata": {
  "kernelspec": {
   "display_name": "Python 3 (ipykernel)",
   "language": "python",
   "name": "python3"
  },
  "language_info": {
   "codemirror_mode": {
    "name": "ipython",
    "version": 3
   },
   "file_extension": ".py",
   "mimetype": "text/x-python",
   "name": "python",
   "nbconvert_exporter": "python",
   "pygments_lexer": "ipython3",
   "version": "3.10.8"
  }
 },
 "nbformat": 4,
 "nbformat_minor": 5
}
