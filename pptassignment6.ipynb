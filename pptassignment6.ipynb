{
 "cells": [
  {
   "cell_type": "markdown",
   "id": "81568964-7974-436e-9eae-a8bee2d5b57c",
   "metadata": {},
   "source": [
    "### 1.A permutation perm of n + 1 integers of all the integers in the range [0, n] can be represented as a string s of length n where:\n",
    "- s[i] == 'I' if perm[i] < perm[i + 1], and\n",
    "- s[i] == 'D' if perm[i] > perm[i + 1].\n",
    "Given a string s, reconstruct the permutation perm and return it. If there are multiple valid permutations perm, return any of them."
   ]
  },
  {
   "cell_type": "code",
   "execution_count": 1,
   "id": "c35aeee8-2c2c-4ef4-949b-521672cc0918",
   "metadata": {},
   "outputs": [
    {
     "name": "stdout",
     "output_type": "stream",
     "text": [
      "[0, 4, 1, 3, 2]\n"
     ]
    }
   ],
   "source": [
    "def reconstructperm(s):\n",
    "    perm=[]\n",
    "    n=len(s)\n",
    "    low=0\n",
    "    high=n\n",
    "    for char in s:\n",
    "        if char=='I':\n",
    "            perm.append(low)\n",
    "            low+=1\n",
    "        elif char=='D':\n",
    "            perm.append(high)\n",
    "            high-=1\n",
    "    perm.append(low)\n",
    "    return perm\n",
    "\n",
    "\n",
    "s = \"IDID\"\n",
    "print(reconstructperm(s))"
   ]
  },
  {
   "cell_type": "markdown",
   "id": "7a7e25e5-4c2f-4805-bbc6-caaf79986a12",
   "metadata": {},
   "source": [
    "### 2.You are given an m x n integer matrix with the following two properties:\n",
    "- Each row is sorted in non-decreasing order.\n",
    "- The first integer of each row is greater than the last integer of the previous row.\n",
    "Given an integer target, return true if target is in matrix or false otherwise.\n",
    "You must write a solution in O(log(m * n)) time complexity."
   ]
  },
  {
   "cell_type": "code",
   "execution_count": 3,
   "id": "e9a70c8e-1305-4c0a-abaf-9378edb78345",
   "metadata": {},
   "outputs": [
    {
     "name": "stdout",
     "output_type": "stream",
     "text": [
      "True\n"
     ]
    }
   ],
   "source": [
    "def searchtarget(matrix,target):\n",
    "    rows=len(matrix)\n",
    "    cols=len(matrix[0])\n",
    "    left=0\n",
    "    right=rows*cols -1\n",
    "    while left<=right:\n",
    "        mid=(left+right)//2\n",
    "        num = matrix[mid//cols][mid%cols]\n",
    "        \n",
    "        if num == target:\n",
    "            return True\n",
    "        elif num < target:\n",
    "            left=mid+1\n",
    "        else:\n",
    "            right=mid-1\n",
    "    return False\n",
    "\n",
    "matrix=[[1,3,5,7],\n",
    "       [10,11,16,20],\n",
    "       [23,30,34,60]]\n",
    "target = 3\n",
    "print(searchtarget(matrix,target))"
   ]
  },
  {
   "cell_type": "markdown",
   "id": "ec501524-9941-44bb-852d-8adfd5ab8468",
   "metadata": {},
   "source": [
    "### 3.Given an array of integers arr, return true if and only if it is a valid mountain array.\n",
    "Recall that arr is a mountain array if and only if:\n",
    "- arr.length >= 3\n",
    "- There exists some i with 0 < i < arr.length - 1 such that:\n",
    "    - arr[0] < arr[1] < ... < arr[i - 1] < arr[i]\n",
    "    - arr[i] > arr[i + 1] > ... > arr[arr.length - 1]"
   ]
  },
  {
   "cell_type": "code",
   "execution_count": 5,
   "id": "60b865c1-e6be-415a-b26c-c92a7bbafc48",
   "metadata": {},
   "outputs": [
    {
     "name": "stdout",
     "output_type": "stream",
     "text": [
      "False\n"
     ]
    }
   ],
   "source": [
    "def mountainarray(arr):\n",
    "    if len(arr) < 3:\n",
    "        return False\n",
    "    \n",
    "    peak_index=arr.index(max(arr))\n",
    "    if peak_index==0 or peak_index==(n-1):\n",
    "        return False\n",
    "    \n",
    "    for i in range(peak_index):\n",
    "        if arr[i]>=arr[i+1]:\n",
    "            return False\n",
    "    for i in range(peak_index,n-1):\n",
    "        if arr[i]<=arr[i+1]:\n",
    "            return False\n",
    "    return True\n",
    "\n",
    "\n",
    "arr = [2,1]\n",
    "print(mountainarray(arr))"
   ]
  },
  {
   "cell_type": "markdown",
   "id": "679773c6-ab69-43f4-82f0-71f33f4b6d7c",
   "metadata": {},
   "source": [
    "### 4.Given a binary array nums, return the maximum length of a contiguous subarray with an equal number of 0 and 1."
   ]
  },
  {
   "cell_type": "code",
   "execution_count": 13,
   "id": "1eb1893a-ec0d-4b8e-a6f5-f3670dd669f8",
   "metadata": {},
   "outputs": [
    {
     "name": "stdout",
     "output_type": "stream",
     "text": [
      "2\n"
     ]
    }
   ],
   "source": [
    "def maxlength(nums):\n",
    "    count=0\n",
    "    maxlength=0\n",
    "    countmaap={0:-1}\n",
    "    for i in range(len(nums)):\n",
    "        if nums[i]==0:\n",
    "            count-=1\n",
    "        else:\n",
    "            count+=1\n",
    "        if count in countmaap:\n",
    "            maxlength=max(maxlength,i-countmaap[count])\n",
    "        else:\n",
    "            countmaap[count]=i\n",
    "    return maxlength\n",
    "\n",
    "nums=[0,1]\n",
    "print(maxlength(nums))"
   ]
  },
  {
   "cell_type": "markdown",
   "id": "9386fd0a-23cf-4a74-8f06-328258b858ad",
   "metadata": {},
   "source": [
    "### 5.The product sum of two equal-length arrays a and b is equal to the sum of a[i] * b[i] for all 0 <= i < a.length (0-indexed).\n",
    "- For example, if a = [1,2,3,4] and b = [5,2,3,1], the product sum would be 1*5 + 2*2 + 3*3 + 4*1 = 22.\n",
    "Given two arrays nums1 and nums2 of length n, return the minimum product sum if you are allowed to rearrange the order of the elements in nums1."
   ]
  },
  {
   "cell_type": "code",
   "execution_count": 17,
   "id": "1466ad95-a6fa-40ff-89e0-e80293bfcd32",
   "metadata": {},
   "outputs": [
    {
     "name": "stdout",
     "output_type": "stream",
     "text": [
      "40\n"
     ]
    }
   ],
   "source": [
    "def minproductsum(nums1,nums2):\n",
    "    nums1.sort()\n",
    "    nums2.sort(reverse=True)\n",
    "    minproductsum=0\n",
    "    for i in range(len(nums1)):\n",
    "        minproductsum += nums1[i]*nums2[i]\n",
    "    \n",
    "    return minproductsum\n",
    "\n",
    "\n",
    "nums1 = [5,3,4,2]\n",
    "nums2 = [4,2,2,5]\n",
    "print(minproductsum(nums1,nums2))"
   ]
  },
  {
   "cell_type": "markdown",
   "id": "9de221a6-2edd-4f33-b911-b1cb3de02c59",
   "metadata": {},
   "source": [
    "### 8.Given two sparse matrices mat1 of size m x k and mat2 of size k x n, return the result of mat1 x mat2. You may assume that multiplication is always possible"
   ]
  },
  {
   "cell_type": "code",
   "execution_count": 27,
   "id": "7d2ca427-9559-47e7-b93d-1d9c33ff411c",
   "metadata": {},
   "outputs": [
    {
     "name": "stdout",
     "output_type": "stream",
     "text": [
      "[7, 0, 0]\n",
      "[-7, 0, 3]\n"
     ]
    }
   ],
   "source": [
    "def multiply(mat1,mat2):\n",
    "    m,k=len(mat1),len(mat1[0])\n",
    "    k,n=len(mat2),len(mat2[0])\n",
    "    resultmat=[[0]*n for _ in range(m)]\n",
    "    \n",
    "    for i in range(m):\n",
    "        for j in range(n):\n",
    "            for x in range(k):\n",
    "                resultmat[i][j]+=mat1[i][x]*mat2[x][j]\n",
    "    return resultmat\n",
    "\n",
    "mat1=[[1,0,0],\n",
    "      [-1,0,3]]\n",
    "mat2=[[7,0,0],\n",
    "      [0,0,0],\n",
    "      [0,0,1]]\n",
    "multiplied=multiply(mat1,mat2)\n",
    "for row in multiplied:\n",
    "    print(row)"
   ]
  },
  {
   "cell_type": "code",
   "execution_count": null,
   "id": "7ff762b6-a06c-4ced-93f2-68c724508499",
   "metadata": {},
   "outputs": [],
   "source": []
  }
 ],
 "metadata": {
  "kernelspec": {
   "display_name": "Python 3 (ipykernel)",
   "language": "python",
   "name": "python3"
  },
  "language_info": {
   "codemirror_mode": {
    "name": "ipython",
    "version": 3
   },
   "file_extension": ".py",
   "mimetype": "text/x-python",
   "name": "python",
   "nbconvert_exporter": "python",
   "pygments_lexer": "ipython3",
   "version": "3.10.8"
  }
 },
 "nbformat": 4,
 "nbformat_minor": 5
}
