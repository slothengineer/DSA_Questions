{
 "cells": [
  {
   "cell_type": "code",
   "execution_count": 1,
   "id": "432bf5ec-2210-4e6a-ba20-60989582f9c1",
   "metadata": {},
   "outputs": [
    {
     "name": "stdout",
     "output_type": "stream",
     "text": [
      "elbidercni\n"
     ]
    }
   ],
   "source": [
    "##1. Write a Python program to reverse a string without using any built-in string reversal functions.\n",
    "def stringreversal(s):\n",
    "    reversed_=s[::-1]\n",
    "    return reversed_\n",
    "\n",
    "s='incredible'\n",
    "print(stringreversal(s))     "
   ]
  },
  {
   "cell_type": "code",
   "execution_count": 2,
   "id": "6a672c45-11d6-4595-9013-cd22c5fe4157",
   "metadata": {},
   "outputs": [
    {
     "name": "stdout",
     "output_type": "stream",
     "text": [
      "True\n"
     ]
    }
   ],
   "source": [
    "##2. Implement a function to check if a given string is a palindrome\n",
    "def ispalindrome(s):\n",
    "\n",
    "        reversed_string=s[::-1]\n",
    "        if s==reversed_string:\n",
    "            return True\n",
    "        else:\n",
    "            return False\n",
    "        \n",
    "s='kayak'\n",
    "print(ispalindrome(s))   "
   ]
  },
  {
   "cell_type": "code",
   "execution_count": 3,
   "id": "0e6a0745-b67a-4deb-9c1a-79b0774dfe32",
   "metadata": {},
   "outputs": [
    {
     "name": "stdout",
     "output_type": "stream",
     "text": [
      "100\n"
     ]
    }
   ],
   "source": [
    "##3. Write a program to find the largest element in a given list.\n",
    "def largestelement(lst):\n",
    "    largestelement=lst[0]\n",
    "    for i in lst:\n",
    "        if i>largestelement:\n",
    "            largestelement=i\n",
    "    return largestelement\n",
    "\n",
    "lst=[100,64,4,16,36,25]\n",
    "print(largestelement(lst))"
   ]
  },
  {
   "cell_type": "code",
   "execution_count": 4,
   "id": "e7cd5797-a352-4a4c-90fd-5e193eea1111",
   "metadata": {},
   "outputs": [
    {
     "name": "stdout",
     "output_type": "stream",
     "text": [
      "{0: 1, 1: 2, 2: 1, 3: 1, 4: 2, 5: 1, 9: 1}\n"
     ]
    }
   ],
   "source": [
    "##4. Implement a function to count the occurrence of each element in a list.\n",
    "def occurrence(lst):\n",
    "    count={}\n",
    "    for i in lst:\n",
    "        if i in count:\n",
    "            count[i]+=1\n",
    "        else:\n",
    "            count[i]=1\n",
    "    return count\n",
    "\n",
    "lst=[0,1,2,3,4,5,1,4,9]\n",
    "print(occurrence(lst))"
   ]
  },
  {
   "cell_type": "code",
   "execution_count": 5,
   "id": "e023af81-7612-4c08-8a1f-2a383c9d9d79",
   "metadata": {},
   "outputs": [
    {
     "name": "stdout",
     "output_type": "stream",
     "text": [
      "64\n"
     ]
    }
   ],
   "source": [
    "##5. Write a Python program to find the second largest number in a list.\n",
    "def secondlargest(lst):\n",
    "    if len(lst)<2:\n",
    "        return None\n",
    "    largestelement=max(lst[0],lst[1])\n",
    "    secondlargest=min(lst[0],lst[1])\n",
    "    \n",
    "    for i in range(2,len(lst)):\n",
    "        if lst[i]>largestelement:\n",
    "            largestelement=lst[i]\n",
    "            secondlargest=largestelement\n",
    "        elif lst[i]>secondlargest and lst[i]!=largestelement:\n",
    "            secondlargest=lst[i]\n",
    "    return secondlargest\n",
    "\n",
    "\n",
    "lst=[100,64,4,16,36,25]\n",
    "print(secondlargest(lst))"
   ]
  },
  {
   "cell_type": "code",
   "execution_count": 6,
   "id": "7ef8c7af-4ab7-4630-b908-6ec6e9fa3f6b",
   "metadata": {},
   "outputs": [
    {
     "name": "stdout",
     "output_type": "stream",
     "text": [
      "[0, 1, 2, 3, 4, 5, 9]\n"
     ]
    }
   ],
   "source": [
    "##6. Implement a function to remove duplicate elements from a list.\n",
    "def removeduplicate(lst):\n",
    "    \n",
    "    set1=set(lst)\n",
    "    new_lst=list(set1)\n",
    "    \n",
    "    return new_lst\n",
    "\n",
    "lst=[0,1,2,3,4,5,1,4,9]\n",
    "print(removeduplicate(lst))"
   ]
  },
  {
   "cell_type": "code",
   "execution_count": 7,
   "id": "36da4b19-edc6-4d2b-87a0-5e36f5055977",
   "metadata": {},
   "outputs": [
    {
     "name": "stdout",
     "output_type": "stream",
     "text": [
      "120\n"
     ]
    }
   ],
   "source": [
    "##7. Write a program to calculate the factorial of a given number.\n",
    "def factorial(number):\n",
    "    if number==0:\n",
    "        return 1\n",
    "    else:\n",
    "        return number*factorial(number-1)  ##recursion\n",
    "    \n",
    "number=5\n",
    "print(factorial(number))"
   ]
  },
  {
   "cell_type": "code",
   "execution_count": 8,
   "id": "fff094eb-31dc-4716-a9ec-33f58019f55c",
   "metadata": {},
   "outputs": [
    {
     "name": "stdout",
     "output_type": "stream",
     "text": [
      "True\n"
     ]
    }
   ],
   "source": [
    "##8. Implement a function to check if a given number is prime\n",
    "def isprime(number):\n",
    "    if number<2:\n",
    "        return False\n",
    "    \n",
    "    divisor=[i for i in range(2,int(number**0.5)+1) if number%i==0]\n",
    "    if len(divisor)==0:\n",
    "        return True\n",
    "    else: \n",
    "        return False\n",
    "    \n",
    "number=887\n",
    "print(isprime(number))"
   ]
  },
  {
   "cell_type": "code",
   "execution_count": 9,
   "id": "c74d849f-aa81-4093-9236-6e6dd42128a7",
   "metadata": {},
   "outputs": [
    {
     "name": "stdout",
     "output_type": "stream",
     "text": [
      "[0, 1, 2, 3, 4, 5, 6, 7, 8, 9]\n"
     ]
    }
   ],
   "source": [
    "##9. Write a Python program to sort a list of integers in ascending order.\n",
    "def sortascending(lst):\n",
    "    n=len(lst)\n",
    "    for i in range(n):\n",
    "        for j in range(n-i-1):\n",
    "            if lst[j]>lst[j+1]:\n",
    "                lst[j], lst[j+1] = lst[j+1], lst[j]\n",
    "    return lst\n",
    "\n",
    "lst=[3,6,9,4,0,8,1,5,2,7]\n",
    "print(sortascending(lst))"
   ]
  },
  {
   "cell_type": "code",
   "execution_count": 10,
   "id": "638785aa-20dd-4263-b738-6e759dead88c",
   "metadata": {},
   "outputs": [
    {
     "name": "stdout",
     "output_type": "stream",
     "text": [
      "22\n"
     ]
    }
   ],
   "source": [
    "##10. Implement a function to find the sum of all numbers in a list.\n",
    "def sumofelement(lst):\n",
    "    summation=0\n",
    "    for i in lst:\n",
    "        summation+=i\n",
    "    return summation\n",
    "\n",
    "\n",
    "lst=[2,3,4,2,7,4]\n",
    "print(sumofelement(lst))"
   ]
  },
  {
   "cell_type": "code",
   "execution_count": 11,
   "id": "53552d41-064e-4236-b1ca-237520821449",
   "metadata": {},
   "outputs": [
    {
     "name": "stdout",
     "output_type": "stream",
     "text": [
      "[1, 5, 6]\n"
     ]
    }
   ],
   "source": [
    "##11. Write a program to find the common elements between two lists.\n",
    "def commonelements(lst1,lst2):\n",
    "    common_elements=[]\n",
    "    for i in lst1:\n",
    "        if i in lst2:\n",
    "            common_elements.append(i)\n",
    "    return common_elements\n",
    "\n",
    "lst1=[1,2,3,4,5,6]\n",
    "lst2=[6,7,8,9,5,1]\n",
    "print(commonelements(lst1,lst2))"
   ]
  },
  {
   "cell_type": "code",
   "execution_count": 12,
   "id": "6e849334-8d18-4249-842e-21f3221ce501",
   "metadata": {},
   "outputs": [
    {
     "name": "stdout",
     "output_type": "stream",
     "text": [
      "True\n"
     ]
    }
   ],
   "source": [
    "##12. Implement a function to check if a given string is an anagram of another string\n",
    "def isanagram(s1,s2):\n",
    "    s1=sorted(s1)\n",
    "    s2=sorted(s2)\n",
    "    \n",
    "    if s1==s2:\n",
    "        return True\n",
    "    else:\n",
    "        return False\n",
    "    \n",
    "s1='night' \n",
    "s2='thing'\n",
    "print(isanagram(s1,s2))"
   ]
  },
  {
   "cell_type": "code",
   "execution_count": 13,
   "id": "5783a040-929c-4a3c-a818-da580f94cc8a",
   "metadata": {},
   "outputs": [
    {
     "name": "stdout",
     "output_type": "stream",
     "text": [
      "['data', 'daat', 'dtaa', 'dtaa', 'daat', 'data', 'adta', 'adat', 'atda', 'atad', 'aadt', 'aatd', 'tdaa', 'tdaa', 'tada', 'taad', 'tada', 'taad', 'adat', 'adta', 'aadt', 'aatd', 'atda', 'atad']\n"
     ]
    }
   ],
   "source": [
    "##13. Write a Python program to generate all permutations of a given string.\n",
    "from itertools import permutations\n",
    "def  string_permutations(s):\n",
    "    \n",
    "    perm_list=list(permutations(s))\n",
    "    return [''.join(perm) for perm in perm_list]\n",
    "\n",
    "s='data'\n",
    "print(string_permutations(s))"
   ]
  },
  {
   "cell_type": "code",
   "execution_count": 14,
   "id": "b3dc74d1-f29e-4dbf-8ac3-1ff8ff3876b1",
   "metadata": {},
   "outputs": [
    {
     "name": "stdout",
     "output_type": "stream",
     "text": [
      "[0, 1, 1, 2, 3, 5, 8, 13, 21, 34, 55]\n"
     ]
    }
   ],
   "source": [
    "##14. Implement a function to calculate the Fibonacci sequence up to a given number of terms\n",
    "def fibbonaci(n):\n",
    "    sequence=[]\n",
    "    if n>=1:\n",
    "        sequence.append(0)\n",
    "    if n>=2:\n",
    "        sequence.append(1)\n",
    "    if n>=3:\n",
    "        for i in range(2,n):\n",
    "            sequence.append(sequence[i-1]+sequence[i-2])\n",
    "    return sequence\n",
    "\n",
    "\n",
    "n=11\n",
    "print(fibbonaci(n))"
   ]
  },
  {
   "cell_type": "code",
   "execution_count": 15,
   "id": "ab205df3-6caa-48b3-a19d-051e857a3748",
   "metadata": {},
   "outputs": [
    {
     "name": "stdout",
     "output_type": "stream",
     "text": [
      "3.5\n"
     ]
    }
   ],
   "source": [
    "##15. Write a program to find the median of a list of numbers.\n",
    "def median(lst):\n",
    "    \n",
    "    sorted_list=sorted(lst)\n",
    "    n=len(sorted_list)\n",
    "    if n%2==1:\n",
    "        median=sorted_list[n//2]\n",
    "    else:\n",
    "        middle_r=n//2\n",
    "        middle_l=middle_r-1\n",
    "        median=(sorted_list[middle_r]+sorted_list[middle_l])/2\n",
    "        \n",
    "    return median\n",
    "\n",
    "list=[6,2,3,1,4,5]\n",
    "print(median(list))"
   ]
  },
  {
   "cell_type": "code",
   "execution_count": 16,
   "id": "8ae3ac68-18c5-49ce-8f20-a1c423e8d3ec",
   "metadata": {},
   "outputs": [
    {
     "name": "stdout",
     "output_type": "stream",
     "text": [
      "False\n",
      "True\n"
     ]
    }
   ],
   "source": [
    "##16. Implement a function to check if a given list is sorted in non-decreasing order.\n",
    "def check_incresing(lst):\n",
    "    \n",
    "    for i in range(len(lst)-1):\n",
    "        if lst[i]>lst[i+1]:\n",
    "            return False\n",
    "    return True\n",
    "\n",
    "lst=[1,3,5,2,6,0]\n",
    "print(check_incresing(lst))\n",
    "\n",
    "lst2=[0,10,100,1000,10000]\n",
    "print(check_incresing(lst2))\n"
   ]
  },
  {
   "cell_type": "code",
   "execution_count": 17,
   "id": "29d8906e-5d70-4556-a37b-35715bc87276",
   "metadata": {},
   "outputs": [
    {
     "name": "stdout",
     "output_type": "stream",
     "text": [
      "[2, 3, 5]\n"
     ]
    }
   ],
   "source": [
    "##17. Write a Python program to find the intersection of two lists\n",
    "def intersection(l1,l2):\n",
    "    required_list=[]\n",
    "    for i in l1:\n",
    "        if i in l2:\n",
    "            required_list.append(i)\n",
    "    return required_list\n",
    "\n",
    "lst1=[1,2,3,4,5,6]\n",
    "lst2=[3,5,2,9,10,8]\n",
    "print(intersection(lst1,lst2))"
   ]
  },
  {
   "cell_type": "code",
   "execution_count": 18,
   "id": "5ea6d489-11a5-4518-b40b-6ebbb82b3951",
   "metadata": {},
   "outputs": [
    {
     "name": "stdout",
     "output_type": "stream",
     "text": [
      "6\n"
     ]
    }
   ],
   "source": [
    "##18. Implement a function to find the maximum subarray sum in a given list.\n",
    "def max_subarray(lst):\n",
    "    current_sum=0\n",
    "    max_sum=float('-inf')\n",
    "    for i in lst:\n",
    "        current_sum=max(i,current_sum+i)\n",
    "        max_sum=max(current_sum,max_sum)\n",
    "    return max_sum\n",
    "\n",
    "array = [-2,1,-3,4,-1,2,1,-5,4]\n",
    "print(max_subarray(array))"
   ]
  },
  {
   "cell_type": "code",
   "execution_count": 19,
   "id": "55671cac-bf1a-4e92-a8b9-900597413f6e",
   "metadata": {},
   "outputs": [
    {
     "name": "stdout",
     "output_type": "stream",
     "text": [
      "sshl\n"
     ]
    }
   ],
   "source": [
    "##19. Write a program to remove all vowels from a given string.\n",
    "def removevowels(s):\n",
    "    result=''\n",
    "    vowels='aeiouAEIOU'\n",
    "    for i in s:\n",
    "        if i not in vowels:\n",
    "            result+=i\n",
    "    return result\n",
    "\n",
    "s='susheel'\n",
    "print(removevowels(s))"
   ]
  },
  {
   "cell_type": "code",
   "execution_count": 20,
   "id": "ecda2e1e-0450-4b80-a6c7-670b693350fd",
   "metadata": {},
   "outputs": [
    {
     "name": "stdout",
     "output_type": "stream",
     "text": [
      "Singh Bhagat of Legend The\n"
     ]
    }
   ],
   "source": [
    "##20. Implement a function to reverse the order of words in a given sentence.\n",
    "def reverseSentence(sentence):\n",
    "    \n",
    "    words=sentence.split()\n",
    "    reversed_words=words[::-1]\n",
    "    reversed_sentence=\" \".join(reversed_words)\n",
    "    return reversed_sentence\n",
    "\n",
    "sentence='The Legend of Bhagat Singh'\n",
    "print(reverseSentence(sentence))"
   ]
  },
  {
   "cell_type": "code",
   "execution_count": 21,
   "id": "2096baa5-68f8-4985-ba0e-74c735cf0cf2",
   "metadata": {},
   "outputs": [
    {
     "name": "stdout",
     "output_type": "stream",
     "text": [
      "True\n"
     ]
    }
   ],
   "source": [
    "##21. Write a Python program to check if two strings are anagrams of each other.\n",
    "def isanagram(s1,s2):\n",
    "    s1=sorted(s1)\n",
    "    s2=sorted(s2)\n",
    "    \n",
    "    if s1==s2:\n",
    "        return True\n",
    "    else:\n",
    "        return False\n",
    "    \n",
    "s1='night' \n",
    "s2='thing'\n",
    "print(isanagram(s1,s2))"
   ]
  },
  {
   "cell_type": "code",
   "execution_count": 22,
   "id": "460cdc88-31a0-468f-b131-52a98815af0c",
   "metadata": {},
   "outputs": [
    {
     "name": "stdout",
     "output_type": "stream",
     "text": [
      "n\n"
     ]
    }
   ],
   "source": [
    "##22. Implement a function to find the first non-repeating character in a string\n",
    "def firstnonrepeting(s):\n",
    "    char_counts={}\n",
    "    \n",
    "    for char in s:\n",
    "        char_counts[char]=char_counts.get(char,0)+1\n",
    "        \n",
    "    for char in s:\n",
    "        if char_counts[char]==1:\n",
    "            return char\n",
    "        \n",
    "    return None\n",
    "    \n",
    "s='incredible'\n",
    "print(firstnonrepeting(s))"
   ]
  },
  {
   "cell_type": "code",
   "execution_count": 23,
   "id": "68696406-ee05-4e03-ab29-9584d2338795",
   "metadata": {},
   "outputs": [
    {
     "name": "stdout",
     "output_type": "stream",
     "text": [
      "[5, 37]\n"
     ]
    }
   ],
   "source": [
    "##23. Write a program to find the prime factors of a given number  ***\n",
    "def primefactors(n):\n",
    "    factors=[]\n",
    "    i=2\n",
    "    \n",
    "    while i*i<=n:\n",
    "        if n%i:\n",
    "            i+=1\n",
    "        else:\n",
    "            n//=i\n",
    "            factors.append(i)\n",
    "    if n>1:\n",
    "        factors.append(n)\n",
    "    return factors\n",
    "\n",
    "\n",
    "number=185\n",
    "print(primefactors(number))"
   ]
  },
  {
   "cell_type": "code",
   "execution_count": 24,
   "id": "22a976c8-4c4d-4293-a23d-4f20f1a8b138",
   "metadata": {},
   "outputs": [
    {
     "name": "stdout",
     "output_type": "stream",
     "text": [
      "True\n"
     ]
    }
   ],
   "source": [
    "##24. Implement a function to check if a given number is a power of two.\n",
    "def is_poweroftwo(number):\n",
    "    while number%2==0:\n",
    "        number//=2\n",
    "        if number==1:\n",
    "            return True\n",
    "    return False \n",
    "        \n",
    "number=256\n",
    "print(is_poweroftwo(number))"
   ]
  },
  {
   "cell_type": "code",
   "execution_count": 25,
   "id": "e77bb742-784f-4de7-86bc-7c11c6dfce06",
   "metadata": {},
   "outputs": [
    {
     "name": "stdout",
     "output_type": "stream",
     "text": [
      "[1, 2, 3, 4, 5, 6, 7, 8, 9]\n"
     ]
    }
   ],
   "source": [
    "##25. Write a Python program to merge two sorted lists into a single sorted list.\n",
    "def mergesortedlists(lst1,lst2):\n",
    "    \n",
    "    for i in lst2:\n",
    "        lst1.append(i)\n",
    "        \n",
    "    for i in range(len(lst1)):\n",
    "        for j in range(len(lst1)-i-1):\n",
    "            if lst1[j]>lst1[j+1]:\n",
    "                lst1[j],lst1[j+1]=lst1[j+1],lst1[j]\n",
    "    return lst1\n",
    "    \n",
    "\n",
    "    \n",
    "lst1=[3,5,2,4,1]\n",
    "lst2=[6,9,7,8]\n",
    "print(mergesortedlists(lst1,lst2))"
   ]
  },
  {
   "cell_type": "code",
   "execution_count": 26,
   "id": "7e3944c0-f9c7-4002-a179-4684d801e7aa",
   "metadata": {},
   "outputs": [
    {
     "name": "stdout",
     "output_type": "stream",
     "text": [
      "Mode: [11]\n"
     ]
    }
   ],
   "source": [
    "##26. Implement a function to find the mode of a list of numbers.\n",
    "from collections import Counter\n",
    "def mode(lst):\n",
    "    \n",
    "    counter=Counter(lst)\n",
    "    \n",
    "    max_count=max(counter.values())\n",
    "    mode=[num for num,count in counter.items() if count==max_count]\n",
    "    \n",
    "    return  mode\n",
    "\n",
    "\n",
    "lst=[11,23,11,22,29,31,11,37,31]\n",
    "print('Mode:',mode(lst))\n",
    "    "
   ]
  },
  {
   "cell_type": "code",
   "execution_count": 27,
   "id": "66c8968b-e30c-4679-8563-984064c9e575",
   "metadata": {},
   "outputs": [
    {
     "name": "stdout",
     "output_type": "stream",
     "text": [
      "60\n"
     ]
    }
   ],
   "source": [
    "##27. Write a program to find the greatest common divisor (GCD) of two numbers.\n",
    "def GCD(num1,num2):\n",
    "    while num2!=0:\n",
    "        num1,num2=num2,num1%num2\n",
    "    return num1\n",
    "\n",
    "a=3660\n",
    "b=540\n",
    "print(GCD(a,b))"
   ]
  },
  {
   "cell_type": "code",
   "execution_count": 28,
   "id": "96557827-c301-44a4-9e6d-62397a938b51",
   "metadata": {},
   "outputs": [
    {
     "name": "stdout",
     "output_type": "stream",
     "text": [
      "100.0\n"
     ]
    }
   ],
   "source": [
    "##28. Implement a function to calculate the square root of a given number\n",
    "def sqrt(number):\n",
    "    if number<0:\n",
    "        raise ValueError\n",
    "    return number**0.5\n",
    "     \n",
    "\n",
    "number=10000\n",
    "print(sqrt(number))\n",
    "    "
   ]
  },
  {
   "cell_type": "code",
   "execution_count": 29,
   "id": "2f022c9d-af7c-44d2-8fe6-dc5bd6030ce3",
   "metadata": {},
   "outputs": [
    {
     "name": "stdout",
     "output_type": "stream",
     "text": [
      "True\n"
     ]
    }
   ],
   "source": [
    "##29. Write a Python program to check if a given string is a valid palindrome ignoring non-alphanumeric characters.\n",
    "def isvalidpalindrome(string):\n",
    "    \n",
    "    alphanumeric_string= ''.join(char.lower() for char in string if char.isalnum())\n",
    "    return alphanumeric_string==alphanumeric_string[::-1]\n",
    "\n",
    "string = \"A man, a plan, a canal: Panama\"\n",
    "print(isvalidpalindrome(string))"
   ]
  },
  {
   "cell_type": "code",
   "execution_count": 30,
   "id": "ab0d67af-fb78-4a5f-9d9c-0b86a8eefa7c",
   "metadata": {},
   "outputs": [
    {
     "name": "stdout",
     "output_type": "stream",
     "text": [
      "0\n"
     ]
    }
   ],
   "source": [
    "##30. Implement a function to find the minimum element in a rotated sorted list.\n",
    "def find_minimum(nums):\n",
    "    \n",
    "    n=len(nums)\n",
    "    if n==0:\n",
    "        return None\n",
    "    \n",
    "    left=0\n",
    "    right=n - 1\n",
    "    \n",
    "    while left<right:\n",
    "        mid=left+(right-left)//2\n",
    "        \n",
    "        if nums[mid]>nums[right]:\n",
    "            left=mid+1\n",
    "        else:\n",
    "            right=mid\n",
    "    \n",
    "    return nums[left]\n",
    "\n",
    "nums=[4, 5, 6, 7, 0, 1, 2]\n",
    "result=find_minimum(nums)\n",
    "print(result)"
   ]
  },
  {
   "cell_type": "code",
   "execution_count": 31,
   "id": "2ee36318-d65c-4409-977f-019532823f3e",
   "metadata": {},
   "outputs": [
    {
     "name": "stdout",
     "output_type": "stream",
     "text": [
      "20\n"
     ]
    }
   ],
   "source": [
    "##31. Write a program to find the sum of all even numbers in a list.\n",
    "def sumofeven(lst):\n",
    "    summation=0\n",
    "    for i in lst:\n",
    "        if i%2==0:\n",
    "            summation+=i\n",
    "    return summation\n",
    "\n",
    "lst=[1,2,3,4,5,6,7,8,9]\n",
    "print(sumofeven(lst))\n",
    "\n"
   ]
  },
  {
   "cell_type": "code",
   "execution_count": 32,
   "id": "01a27447-bbe6-48c2-825c-1ac2c4010643",
   "metadata": {},
   "outputs": [
    {
     "name": "stdout",
     "output_type": "stream",
     "text": [
      "64\n"
     ]
    }
   ],
   "source": [
    "##32. Implement a function to calculate the power of a number using recursion\n",
    "def powerofnum(num,power):\n",
    "    \n",
    "    if power==0:\n",
    "        return 1\n",
    "    if power<0:\n",
    "        return 1/powerofnum(num,-power)\n",
    "    else:\n",
    "        return num*powerofnum(num,power-1)          \n",
    "\n",
    "\n",
    "number=2\n",
    "power=6\n",
    "print(powerofnum(number,power))\n",
    "    "
   ]
  },
  {
   "cell_type": "code",
   "execution_count": 33,
   "id": "f58df5a7-582d-416d-ac99-dbee7cd4c1dd",
   "metadata": {},
   "outputs": [
    {
     "name": "stdout",
     "output_type": "stream",
     "text": [
      "[1, 2, 7, 4, 9, 6, 8]\n"
     ]
    }
   ],
   "source": [
    "##33. Write a Python program to remove duplicates from a list while preserving the order.     ***\n",
    "def  removeduplicates(lst):\n",
    "    \n",
    "    seen=set()\n",
    "    result=[]\n",
    "    \n",
    "    for i in lst:\n",
    "        if i not in seen:\n",
    "            seen.add(i)\n",
    "            result.append(i)\n",
    "            \n",
    "    return result\n",
    "\n",
    "lst=[1,2,1,7,4,9,6,8,4,7]\n",
    "print(removeduplicates(lst))"
   ]
  },
  {
   "cell_type": "code",
   "execution_count": 34,
   "id": "e55df4e3-5033-4531-b710-435769215df8",
   "metadata": {},
   "outputs": [
    {
     "name": "stdout",
     "output_type": "stream",
     "text": [
      "fi\n"
     ]
    }
   ],
   "source": [
    "##34. Implement a function to find the longest common prefix among a list of strings.\n",
    "def longestcommonprefix(strs):\n",
    "    if not strs:\n",
    "        return \"\"\n",
    "\n",
    "    prefix=strs[0]\n",
    "\n",
    "    for string in strs[1:]:\n",
    "        while not string.startswith(prefix):\n",
    "            prefix=prefix[:-1]\n",
    "            if not prefix:\n",
    "                return \"\"\n",
    "    \n",
    "    return prefix\n",
    "\n",
    "\n",
    "strs=['fight','find','final','fin']\n",
    "print(longestcommonprefix(strs))"
   ]
  },
  {
   "cell_type": "code",
   "execution_count": 35,
   "id": "881a453f-09c1-4d8a-b9b6-060416d10e76",
   "metadata": {},
   "outputs": [
    {
     "name": "stdout",
     "output_type": "stream",
     "text": [
      "True\n"
     ]
    }
   ],
   "source": [
    "##35. Write a program to check if a given number is a perfect square.\n",
    "def checkperfectsquare(number):\n",
    "    \n",
    "    if number<0:\n",
    "        raise ValueError(\"not a valid number to check perfect square\")\n",
    "    sqrt=int(number**0.5)\n",
    "    return (sqrt*sqrt)==number\n",
    "      \n",
    "    \n",
    "number=121\n",
    "print(checkperfectsquare(number))"
   ]
  },
  {
   "cell_type": "code",
   "execution_count": 36,
   "id": "6510ede7-bd06-4d62-95d3-c07826a87043",
   "metadata": {},
   "outputs": [
    {
     "name": "stdout",
     "output_type": "stream",
     "text": [
      "720\n"
     ]
    }
   ],
   "source": [
    "##36. Implement a function to calculate the product of all elements in a list.\n",
    "def productofelements(lst):\n",
    "    \n",
    "    product=1\n",
    "    for i in lst:\n",
    "        product*=i\n",
    "    return product\n",
    "\n",
    "  \n",
    "lst=[1,2,3,4,5,6]\n",
    "print(productofelements(lst))"
   ]
  },
  {
   "cell_type": "code",
   "execution_count": 37,
   "id": "d4196f1f-f0d8-406c-a2bc-0a6a9b5b4488",
   "metadata": {},
   "outputs": [
    {
     "name": "stdout",
     "output_type": "stream",
     "text": [
      "labolG gnimraw srefer ot eht mret-gnol esaercni ni s'htraE egareva ecafrus erutarepmet\n"
     ]
    }
   ],
   "source": [
    "##37. Write a Python program to reverse the order of words in a sentence while preserving the word order.\n",
    "def reversewords(sentence):\n",
    "    \n",
    "    words=sentence.split()\n",
    "    reversed_word=[word[::-1] for word in words]\n",
    "    reversed_words=\" \".join(reversed_word)\n",
    "    return reversed_words\n",
    "\n",
    "sentence=\"Global warming refers to the long-term increase in Earth's average surface temperature\"\n",
    "print(reversewords(sentence))"
   ]
  },
  {
   "cell_type": "code",
   "execution_count": 38,
   "id": "854c6ae3-1493-45db-b129-bbf99361ec64",
   "metadata": {},
   "outputs": [
    {
     "name": "stdout",
     "output_type": "stream",
     "text": [
      "4\n"
     ]
    }
   ],
   "source": [
    "##38. Implement a function to find the missing number in a given list of consecutive numbers.\n",
    "def missinglement(lst):\n",
    "    \n",
    "    n=len(lst)+1\n",
    "    actual_sum=sum(lst)\n",
    "    expected_sum=(n*(n+1)//2)\n",
    "    missing_number=expected_sum-actual_sum\n",
    "    \n",
    "    return missing_number\n",
    "\n",
    "lst=[1,2,3,5,6,7,8]\n",
    "print(missinglement(lst))\n",
    "            "
   ]
  },
  {
   "cell_type": "code",
   "execution_count": 39,
   "id": "6c66706e-4f5f-4786-b083-831a4b480dc8",
   "metadata": {},
   "outputs": [
    {
     "name": "stdout",
     "output_type": "stream",
     "text": [
      "45\n"
     ]
    }
   ],
   "source": [
    "##39. Write a program to find the sum of digits of a given number.\n",
    "def sumofdigits(number):\n",
    "    \n",
    "    summation=0\n",
    "    while number > 0:\n",
    "        digit = number % 10\n",
    "        summation += digit\n",
    "        number //= 10\n",
    "    return summation\n",
    "\n",
    "\n",
    "number=123456789\n",
    "print(sumofdigits(number))"
   ]
  },
  {
   "cell_type": "code",
   "execution_count": 40,
   "id": "219ea09f-bffd-4734-86a5-127f0f9205a6",
   "metadata": {},
   "outputs": [
    {
     "name": "stdout",
     "output_type": "stream",
     "text": [
      "True\n"
     ]
    }
   ],
   "source": [
    "##40. Implement a function to check if a given string is a valid palindrome considering case sensitivity.\n",
    "def isPalindrome(s):\n",
    "    s=s.lower()\n",
    "    reversed_string=s[::-1]\n",
    "        \n",
    "    if s==reversed_string:\n",
    "            return True\n",
    "    else:\n",
    "            return False\n",
    "        \n",
    "s='Racecar'\n",
    "print(isPalindrome(s))"
   ]
  },
  {
   "cell_type": "code",
   "execution_count": 41,
   "id": "4de977f3-ee76-457a-9646-f775601fd59c",
   "metadata": {},
   "outputs": [
    {
     "name": "stdout",
     "output_type": "stream",
     "text": [
      "1\n"
     ]
    }
   ],
   "source": [
    "##41. Write a Python program to find the smallest missing positive integer in a list\n",
    "def smallestmissingpositiveint(lst):\n",
    "    n=len(lst)\n",
    "    nums = set(filter(lambda x: 0 < x <=n,lst))\n",
    "    for i in range(1,n+1):\n",
    "        if i not in lst:\n",
    "            return i\n",
    "    return n+1\n",
    "\n",
    "nums=[-4,-1,2,3,-1,5,-7]\n",
    "print(smallestmissingpositiveint(nums))\n"
   ]
  },
  {
   "cell_type": "code",
   "execution_count": 42,
   "id": "1eea4e23-2093-4a3c-b490-4f9317e0f52d",
   "metadata": {},
   "outputs": [
    {
     "name": "stdout",
     "output_type": "stream",
     "text": [
      "3\n"
     ]
    }
   ],
   "source": [
    "##43. Write a program to find the number of occurrences of a given element in a list.\n",
    "def occurenceofelement(lst,target):\n",
    "    count=0\n",
    "    for i in lst:\n",
    "        if i==target:\n",
    "            count+=1\n",
    "    return count\n",
    "    \n",
    "lst=[2,3,4,2,8,7,9,2,1]\n",
    "element=2\n",
    "print(occurenceofelement(lst,element))"
   ]
  },
  {
   "cell_type": "code",
   "execution_count": 43,
   "id": "eac294b9-2a9f-48cd-9d31-80786682ee48",
   "metadata": {},
   "outputs": [
    {
     "name": "stdout",
     "output_type": "stream",
     "text": [
      "True\n"
     ]
    }
   ],
   "source": [
    "##44. Implement a function to check if a given number is a perfect number.      ***\n",
    "def isperfectnumber(number):\n",
    "    \n",
    "    divisor=[1]\n",
    "    for i in range(2,int(number**0.5)+1):\n",
    "        if number%i==0:\n",
    "            divisor.append(i)\n",
    "            if i != number // i:\n",
    "                divisor.append(number // i)\n",
    "    \n",
    "    return sum(divisor)==number\n",
    "\n",
    "\n",
    "num=28\n",
    "print(isperfectnumber(num))"
   ]
  },
  {
   "cell_type": "code",
   "execution_count": 44,
   "id": "096c4825-2ce5-45ba-bb7e-9c149ed85c52",
   "metadata": {},
   "outputs": [
    {
     "name": "stdout",
     "output_type": "stream",
     "text": [
      "helo, wrd!\n"
     ]
    }
   ],
   "source": [
    "##45. Write a Python program to remove all duplicates from a string.\n",
    "def removeDuplicates(s):\n",
    "    \n",
    "    seen=set()\n",
    "    result=[]\n",
    "    \n",
    "    for i in s:\n",
    "        if i not in seen:\n",
    "            seen.add(i)\n",
    "            result.append(i)\n",
    "    return \"\".join(result)\n",
    "\n",
    "\n",
    "s='hello, world!'\n",
    "print(removeDuplicates(s))\n",
    "    "
   ]
  },
  {
   "cell_type": "code",
   "execution_count": 45,
   "id": "3c6c8784-cf9a-4a90-bd3e-6ddc9469855e",
   "metadata": {},
   "outputs": [
    {
     "name": "stdout",
     "output_type": "stream",
     "text": [
      "1\n"
     ]
    }
   ],
   "source": [
    "##46. Implement a function to find the first missing positive    ***\n",
    "def firstmissingpositive(lst):\n",
    "    \n",
    "    n=len(lst)\n",
    "    nums = set(filter(lambda x: 0 < x <=n,lst))\n",
    "    for i in range(1,n+1):\n",
    "        if i not in lst:\n",
    "            return i\n",
    "    return n+1\n",
    "\n",
    "nums=[-4,-1,2,3,-1,5,-7]\n",
    "print(firstmissingpositive(nums))\n",
    "    "
   ]
  },
  {
   "cell_type": "code",
   "execution_count": null,
   "id": "b15b3700-ad7a-4e63-accb-d3db4c3cd642",
   "metadata": {},
   "outputs": [],
   "source": []
  }
 ],
 "metadata": {
  "kernelspec": {
   "display_name": "Python 3 (ipykernel)",
   "language": "python",
   "name": "python3"
  },
  "language_info": {
   "codemirror_mode": {
    "name": "ipython",
    "version": 3
   },
   "file_extension": ".py",
   "mimetype": "text/x-python",
   "name": "python",
   "nbconvert_exporter": "python",
   "pygments_lexer": "ipython3",
   "version": "3.10.8"
  }
 },
 "nbformat": 4,
 "nbformat_minor": 5
}
