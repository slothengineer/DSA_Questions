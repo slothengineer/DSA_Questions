{
 "cells": [
  {
   "cell_type": "markdown",
   "id": "25654852-4bae-49f3-b7d5-a58a49af46eb",
   "metadata": {},
   "source": [
    "### 1.Given an integer array nums of length n and an integer target, find three integers in nums such that the sum is closest to the target.\n",
    "Return the sum of the three integers.\n",
    "You may assume that each input would have exactly one solution."
   ]
  },
  {
   "cell_type": "code",
   "execution_count": 3,
   "id": "e2cd59d8-8952-4dd1-9644-e70d8e15a43e",
   "metadata": {},
   "outputs": [
    {
     "name": "stdout",
     "output_type": "stream",
     "text": [
      "2\n"
     ]
    }
   ],
   "source": [
    "def closestsum(nums,target):\n",
    "    nums.sort()\n",
    "    n=len(nums)\n",
    "    closestsum=float('inf')\n",
    "    for i in range(n-2):\n",
    "        left=i+1\n",
    "        right=n-1\n",
    "        while left<right:\n",
    "            currentsum=nums[i]+nums[left]+nums[right]\n",
    "            if currentsum==target:\n",
    "                return target\n",
    "            if abs(currentsum-target)<abs(closestsum-target):\n",
    "                closestsum=currentsum\n",
    "            if currentsum>target:\n",
    "                right-=1\n",
    "            else:\n",
    "                left+=1\n",
    "    return closestsum\n",
    "\n",
    "nums = [-1,2,1,-4]\n",
    "print(closestsum(nums,1))\n",
    "                    "
   ]
  },
  {
   "cell_type": "markdown",
   "id": "e77d214c-aad9-4b01-8378-11f6fb924937",
   "metadata": {},
   "source": [
    "### 2.Given an array nums of n integers, return an array of all the unique quadruplets [nums[a], nums[b], nums[c], nums[d]] such that:\n",
    "           ● 0 <= a, b, c, d < n\n",
    "           ● a, b, c, and d are distinct.\n",
    "           ● nums[a] + nums[b] + nums[c] + nums[d] == target\n",
    "You may return the answer in any order.\n"
   ]
  },
  {
   "cell_type": "code",
   "execution_count": 5,
   "id": "4d6909f3-3c0e-4ba6-ae66-e58710e92d60",
   "metadata": {},
   "outputs": [
    {
     "name": "stdout",
     "output_type": "stream",
     "text": [
      "[[-2, -1, 1, 2], [-2, 0, 0, 2], [-1, 0, 0, 1]]\n"
     ]
    }
   ],
   "source": [
    "def uniquequad(nums,target):\n",
    "    nums.sort()\n",
    "    n=len(nums)\n",
    "    result=[]\n",
    "    \n",
    "    for i in range(n-3):\n",
    "        if i>0 and nums[i]==nums[i-1]:\n",
    "            continue\n",
    "        for j in  range(i+1,n-2):\n",
    "            if j > i + 1 and nums[j] == nums[j-1]:\n",
    "                continue\n",
    "                \n",
    "            left=j+1\n",
    "            right=n-1\n",
    "            while left<right:\n",
    "                currentsum = nums[i]+nums[j]+nums[left]+nums[right]\n",
    "                \n",
    "                if currentsum==target:\n",
    "                    result.append([nums[i], nums[j], nums[left], nums[right]])\n",
    "\n",
    "                    while left < right and nums[left]==nums[left+1]:\n",
    "                        left += 1\n",
    "                    while left < right and nums[right]==nums[right-1]:\n",
    "                        right-= 1\n",
    "\n",
    "                    left+= 1\n",
    "                    right-= 1\n",
    "\n",
    "                elif currentsum>target:\n",
    "                    right-= 1\n",
    "                else:\n",
    "                    left+= 1\n",
    "    return result\n",
    "    \n",
    "    \n",
    "nums = [1,0,-1,0,-2,2]\n",
    "print(uniquequad(nums,0))"
   ]
  },
  {
   "cell_type": "code",
   "execution_count": 14,
   "id": "225ae65d-c47b-47ce-b319-f1f7f7cf4b9b",
   "metadata": {},
   "outputs": [
    {
     "name": "stdout",
     "output_type": "stream",
     "text": [
      "[[-5, -3, 5, 6]]\n"
     ]
    }
   ],
   "source": [
    "nums1 = [3,-3,5,6,-6,-5]\n",
    "print(uniquequad(nums1,3))"
   ]
  },
  {
   "cell_type": "markdown",
   "id": "2ee0e386-6428-479b-9ddd-64c296cd4720",
   "metadata": {},
   "source": [
    "### 4.Given a sorted array of distinct integers and a target value, return the index if the target is found. If not, return the index where it would be if it were inserted in order.\n",
    "You must write an algorithm with O(log n) runtime complexity."
   ]
  },
  {
   "cell_type": "code",
   "execution_count": 16,
   "id": "ec4f264e-8d2b-4114-bc1f-885deb076e8f",
   "metadata": {},
   "outputs": [
    {
     "name": "stdout",
     "output_type": "stream",
     "text": [
      "2\n"
     ]
    }
   ],
   "source": [
    "def search(nums,target):\n",
    "    left=0\n",
    "    right=len(nums)\n",
    "    while left<right:\n",
    "        mid = left + (right - left) //2\n",
    "        if nums[mid] == target:\n",
    "            return mid\n",
    "        elif nums[mid] < target:\n",
    "            left = mid + 1\n",
    "        else:\n",
    "            right = mid - 1\n",
    "    return left\n",
    "\n",
    "nums=[1,3,5,6]\n",
    "print(search(nums,5))\n",
    "        \n",
    "    "
   ]
  },
  {
   "cell_type": "markdown",
   "id": "0d216157-4fb6-4e00-94b4-a72d67f991ca",
   "metadata": {},
   "source": [
    "### 5.You are given a large integer represented as an integer array digits, where each digits[i] is the ith digit of the integer. The digits are ordered from most significant to least significant in left-to-right order. The large integer does not contain any leading 0's.\n",
    "Increment the large integer by one and return the resulting array of digits."
   ]
  },
  {
   "cell_type": "code",
   "execution_count": 19,
   "id": "ccb39d35-5348-40f9-b4c8-46d2ed4141e1",
   "metadata": {},
   "outputs": [
    {
     "name": "stdout",
     "output_type": "stream",
     "text": [
      "[1, 2, 4]\n"
     ]
    }
   ],
   "source": [
    "def plusone(digits):\n",
    "    n=len(digits)\n",
    "    carry=1\n",
    "\n",
    "    for i in range(n-1,-1,-1):\n",
    "        digits[i]+= carry\n",
    "        carry= digits[i] //10\n",
    "        digits[i]%= 10\n",
    "\n",
    "        if carry== 0:\n",
    "            break\n",
    "\n",
    "    if carry== 1:\n",
    "        digits.insert(0, 1)\n",
    "\n",
    "    return digits\n",
    "\n",
    "\n",
    "d = [1,2,3]\n",
    "print(plusone(d))"
   ]
  },
  {
   "cell_type": "markdown",
   "id": "cb05da32-a3d6-4d9c-9560-af50e42bfb44",
   "metadata": {},
   "source": [
    "### 6.Given a non-empty array of integers nums, every element appears twice except for one. Find that single one.\n",
    "You must implement a solution with a linear runtime complexity and use only constant extra space."
   ]
  },
  {
   "cell_type": "code",
   "execution_count": 20,
   "id": "86c8114d-4129-4598-aaf9-48bc1ec058cc",
   "metadata": {},
   "outputs": [
    {
     "name": "stdout",
     "output_type": "stream",
     "text": [
      "1\n"
     ]
    }
   ],
   "source": [
    "def single(nums):\n",
    "    result = 0\n",
    "\n",
    "    for num in nums:\n",
    "        result^= num\n",
    "\n",
    "    return result\n",
    "\n",
    "\n",
    "nums = [2,2,1]\n",
    "print(single(nums))\n"
   ]
  },
  {
   "cell_type": "markdown",
   "id": "d7b31708-af9d-40fc-aa59-a704cf457427",
   "metadata": {},
   "source": [
    "### 8.Given an array of meeting time intervals where intervals[i] = [starti, endi], determine if a person could attend all meetings."
   ]
  },
  {
   "cell_type": "code",
   "execution_count": 22,
   "id": "1e7c3e78-3035-4120-88cd-7cca73713dda",
   "metadata": {},
   "outputs": [
    {
     "name": "stdout",
     "output_type": "stream",
     "text": [
      "False\n"
     ]
    }
   ],
   "source": [
    "def attendmeetings(intervals):\n",
    "    intervals.sort(key=lambda x:x[0]) \n",
    "\n",
    "    for i in range(1, len(intervals)):\n",
    "        if intervals[i][0]< intervals[i-1][1]:\n",
    "            return False\n",
    "\n",
    "    return True\n",
    "\n",
    "intervals = [[0,30],[5,10],[15,20]]\n",
    "print(attendmeetings(intervals))"
   ]
  },
  {
   "cell_type": "code",
   "execution_count": 23,
   "id": "4e3db1be-7826-424a-90ac-00835c8f721d",
   "metadata": {},
   "outputs": [
    {
     "name": "stdout",
     "output_type": "stream",
     "text": [
      "True\n"
     ]
    }
   ],
   "source": [
    "intervals1 = [[1, 5],[6, 10],[12, 15]]\n",
    "print(attendmeetings(intervals1))"
   ]
  },
  {
   "cell_type": "code",
   "execution_count": null,
   "id": "e9f71b6c-481f-4a69-9dc8-012518878b9e",
   "metadata": {},
   "outputs": [],
   "source": []
  }
 ],
 "metadata": {
  "kernelspec": {
   "display_name": "Python 3 (ipykernel)",
   "language": "python",
   "name": "python3"
  },
  "language_info": {
   "codemirror_mode": {
    "name": "ipython",
    "version": 3
   },
   "file_extension": ".py",
   "mimetype": "text/x-python",
   "name": "python",
   "nbconvert_exporter": "python",
   "pygments_lexer": "ipython3",
   "version": "3.10.8"
  }
 },
 "nbformat": 4,
 "nbformat_minor": 5
}
