{
 "cells": [
  {
   "cell_type": "markdown",
   "id": "2483dbfd-49da-45c5-97ca-c16abbcbc85d",
   "metadata": {},
   "source": [
    "### 2.Given a string s containing only three types of characters: '(', ')' and '*', return true *if* s *is **valid***.\n",
    "\n",
    "The following rules define a valid string:\n",
    "\n",
    "- Any left parenthesis '(' must have a corresponding right parenthesis ')'.\n",
    "- Any right parenthesis ')' must have a corresponding left parenthesis '('.\n",
    "- Left parenthesis '(' must go before the corresponding right parenthesis ')'.\n",
    "- '*' could be treated as a single right parenthesis ')' or a single left parenthesis '(' or an empty string \"\"."
   ]
  },
  {
   "cell_type": "code",
   "execution_count": 18,
   "id": "b26bce88-aac7-457b-ae55-4c99329d4f01",
   "metadata": {},
   "outputs": [
    {
     "name": "stdout",
     "output_type": "stream",
     "text": [
      "True\n"
     ]
    }
   ],
   "source": [
    "def sValid(s):\n",
    "    low, high=0,0\n",
    "\n",
    "    for c in s:\n",
    "        if c=='(':\n",
    "            low+= 1\n",
    "            high+= 1\n",
    "        elif c==')':\n",
    "            if low> 0:\n",
    "                low-= 1\n",
    "            high-= 1\n",
    "        elif c=='*':\n",
    "            if low>0:\n",
    "                low-= 1\n",
    "            high+= 1\n",
    "\n",
    "        if high<0:\n",
    "            return False\n",
    "\n",
    "    return low==0\n",
    "\n",
    "ss=\"()\"\n",
    "print(sValid(ss))\n"
   ]
  },
  {
   "cell_type": "markdown",
   "id": "4047d0b0-341e-4c31-9571-1446c8318e4e",
   "metadata": {},
   "source": [
    "### 3.Given two strings word1 and word2, return the minimum number of steps required to make word1 and word2 the same. In one step, you can delete exactly one character in either string."
   ]
  },
  {
   "cell_type": "code",
   "execution_count": 1,
   "id": "58cdc3ec-c90f-4bd7-b91d-308ce57fd1a6",
   "metadata": {},
   "outputs": [
    {
     "name": "stdout",
     "output_type": "stream",
     "text": [
      "2\n"
     ]
    }
   ],
   "source": [
    "def makingsameword(s1,s2):\n",
    "    m=len(s1)\n",
    "    n=len(s2)\n",
    "    dp=[[0]*(n+1) for _ in range(m+1)]\n",
    "\n",
    "    \n",
    "    for i in range(1,m+1):\n",
    "        dp[i][0]=i\n",
    "    for j in range(1,n+1):\n",
    "        dp[0][j]=j\n",
    "    \n",
    "    for i in  range(1,m+1):\n",
    "        for j in range(1,n+1):\n",
    "            if s1[i-1]==s2[j-1]:\n",
    "                dp[i][j]=dp[i-1][j-1]\n",
    "            else:\n",
    "                dp[i][j]=min(dp[i-1][j],dp[i][j-1])+1\n",
    "    return dp[m][n]\n",
    "\n",
    "word1=\"sea\"\n",
    "word2=\"eat\"\n",
    "print(makingsameword(word1,word2))"
   ]
  },
  {
   "cell_type": "markdown",
   "id": "16b11ef7-183f-47bd-8dbd-c06323ca5867",
   "metadata": {},
   "source": [
    "### 8.Given two strings s and goal, return true if you can swap two letters in s so the result is equal to goal, otherwise, return false.Swapping letters is defined as taking two indices i and j (0-indexed) such that i != j and swapping the characters at s[i] and s[j].\n",
    "- For example, swapping at indices 0 and 2 in \"abcd\" results in \"cbad\"."
   ]
  },
  {
   "cell_type": "code",
   "execution_count": 22,
   "id": "1bda2cd1-1b51-47ca-91c3-b3de687669e0",
   "metadata": {},
   "outputs": [
    {
     "name": "stdout",
     "output_type": "stream",
     "text": [
      "True\n"
     ]
    }
   ],
   "source": [
    "def ispossible(s,goal):\n",
    "    mismatchCount=0\n",
    "    mismatchIndices=[]\n",
    "    \n",
    "    for i in range(0,len(s)):\n",
    "        if s[i]!=goal[i]:\n",
    "            mismatchCount+=1\n",
    "            mismatchIndices.append(i)\n",
    "            \n",
    "    if mismatchCount!=2:\n",
    "        return False\n",
    "    \n",
    "    return (\n",
    "        s[mismatchIndices[0]]==goal[mismatchIndices[1]]\n",
    "        and s[mismatchIndices[1]]==goal[mismatchIndices[0]]\n",
    "    )\n",
    "\n",
    "\n",
    "s = \"ab\"\n",
    "goal = \"ba\"\n",
    "print(ispossible(s,goal))\n"
   ]
  },
  {
   "cell_type": "code",
   "execution_count": null,
   "id": "7d716d8b-ff96-4e7a-b9dd-aeeb8e90bcc0",
   "metadata": {},
   "outputs": [],
   "source": []
  }
 ],
 "metadata": {
  "kernelspec": {
   "display_name": "Python 3 (ipykernel)",
   "language": "python",
   "name": "python3"
  },
  "language_info": {
   "codemirror_mode": {
    "name": "ipython",
    "version": 3
   },
   "file_extension": ".py",
   "mimetype": "text/x-python",
   "name": "python",
   "nbconvert_exporter": "python",
   "pygments_lexer": "ipython3",
   "version": "3.10.8"
  }
 },
 "nbformat": 4,
 "nbformat_minor": 5
}
