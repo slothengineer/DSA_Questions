{
 "cells": [
  {
   "cell_type": "markdown",
   "id": "588d6125-4165-4c9a-bf57-94bf160755cf",
   "metadata": {},
   "source": [
    "### 1.Given three integer arrays arr1, arr2 and arr3 sorted in strictly increasing order, return a sorted array of only the integers that appeared in all three arrays."
   ]
  },
  {
   "cell_type": "code",
   "execution_count": 12,
   "id": "7fa171f0-80dc-4298-bcf4-21fbd7495879",
   "metadata": {},
   "outputs": [
    {
     "name": "stdout",
     "output_type": "stream",
     "text": [
      "[1, 5]\n"
     ]
    }
   ],
   "source": [
    "def commonintegers(arr1,arr2,arr3):\n",
    "    p1=p2=p3=0\n",
    "    arr=[]\n",
    "    while p1<len(arr1) and p2<len(arr2) and p3<len(arr3):\n",
    "        if arr1[p1]==arr2[p2]==arr3[p3]:\n",
    "            arr.append(arr1[p1])\n",
    "            p1 +=1\n",
    "            p2 +=1\n",
    "            p3 +=1\n",
    "        elif arr1[p1]<arr2[p2]:\n",
    "            p1+=1\n",
    "        elif arr2[p2]<arr3[p3]:\n",
    "            p2+=1\n",
    "        else:\n",
    "            p3+=1\n",
    "    return arr\n",
    "\n",
    "arr1 = [1,2,3,4,5]\n",
    "arr2 = [1,2,5,7,9]\n",
    "arr3 = [1,3,4,5,8]\n",
    "print(commonintegers(arr1,arr2,arr3))\n",
    "\n"
   ]
  },
  {
   "cell_type": "markdown",
   "id": "2423c2c5-3cdc-42f6-961b-2c70ade0fd64",
   "metadata": {},
   "source": [
    "### 2.Given two 0-indexed integer arrays nums1 and nums2, return a list answer of size 2 where:\n",
    "- answer[0] is a list of all distinct integers in nums1 which are not present in nums2.\n",
    "- answer[1] is a list of all distinct integers in nums2 which are not present in nums1.\n",
    "\n",
    "Note-that the integers in the lists may be returned in any order."
   ]
  },
  {
   "cell_type": "code",
   "execution_count": 13,
   "id": "34f9cc99-bd84-4995-94d2-c8feeaf412e3",
   "metadata": {},
   "outputs": [
    {
     "name": "stdout",
     "output_type": "stream",
     "text": [
      "[[1, 3], [4, 6]]\n"
     ]
    }
   ],
   "source": [
    "def disjoint_nums(nums1, nums2):\n",
    "    set_nums1 = set(nums1)\n",
    "    set_nums2 = set(nums2)\n",
    "\n",
    "    distinct_nums1 = list(set_nums1-set_nums2)\n",
    "    distinct_nums2 = list(set_nums2-set_nums1)\n",
    "\n",
    "    return [distinct_nums1,distinct_nums2]\n",
    "\n",
    "nums1 = [1,2,3]\n",
    "nums2 = [2,4,6]\n",
    "print(disjoint_nums(nums1,nums2))"
   ]
  },
  {
   "cell_type": "markdown",
   "id": "668c4fb7-57a0-494c-89ad-67e6f8d3499b",
   "metadata": {},
   "source": [
    "### 3.Given a 2D integer array matrix, return the transpose of matrix.\n",
    "The transpose of a matrix is the matrix flipped over its main diagonal, switching the matrix's row and column indices."
   ]
  },
  {
   "cell_type": "code",
   "execution_count": 35,
   "id": "a3d21eed-ed75-497c-9906-4a7223ce53f4",
   "metadata": {},
   "outputs": [
    {
     "name": "stdout",
     "output_type": "stream",
     "text": [
      "[1, 4, 7]\n",
      "[2, 5, 8]\n",
      "[3, 6, 9]\n"
     ]
    }
   ],
   "source": [
    "def transpose(matrix):\n",
    "    rows = len(matrix)\n",
    "    columns=len(matrix[0])\n",
    "    transpose = [[0 for _ in range(columns)] for _ in range(rows)]\n",
    "    for i in range(rows):\n",
    "        for j in range(columns):\n",
    "            transpose[j][i] = matrix[i][j]\n",
    "    return transpose\n",
    "\n",
    "matrix=[[1,2,3],\n",
    "        [4,5,6],\n",
    "        [7,8,9]]\n",
    "transposed = transpose(matrix)\n",
    "for row in transposed:\n",
    "    print(row)"
   ]
  },
  {
   "cell_type": "markdown",
   "id": "06041fc5-a37e-45e5-8f4e-dcca7850f22d",
   "metadata": {},
   "source": [
    "### 4.Given an integer array nums of 2n integers, group these integers into n pairs (a1, b1), (a2, b2), ..., (an, bn) such that the sum of min(ai, bi) for all i is maximized. Return the maximized sum."
   ]
  },
  {
   "cell_type": "code",
   "execution_count": 29,
   "id": "f4844321-c79e-4c22-b8b5-df25f16d67c3",
   "metadata": {},
   "outputs": [
    {
     "name": "stdout",
     "output_type": "stream",
     "text": [
      "4\n"
     ]
    }
   ],
   "source": [
    "def array_pair(nums):\n",
    "    nums.sort()  # Sort the array in ascending order\n",
    "    max_sum = 0\n",
    "\n",
    "    for i in range(0, len(nums), 2):\n",
    "        max_sum += nums[i]\n",
    "\n",
    "    return max_sum\n",
    "\n",
    "nums = [1,4,3,2]\n",
    "print(array_pair(nums))\n",
    "\n"
   ]
  },
  {
   "cell_type": "markdown",
   "id": "fa0da80c-d745-4a71-a0e6-7750513f210e",
   "metadata": {},
   "source": [
    "### 5.You have n coins and you want to build a staircase with these coins. The staircase consists of k rows where the ith row has exactly i coins. The last row of the staircase may be incomplete.\n",
    "Given the integer n, return the number of complete rows of the staircase you will build"
   ]
  },
  {
   "cell_type": "code",
   "execution_count": 30,
   "id": "c136ba90-9781-46aa-ae12-be3f4390ff81",
   "metadata": {},
   "outputs": [
    {
     "name": "stdout",
     "output_type": "stream",
     "text": [
      "2\n"
     ]
    }
   ],
   "source": [
    "def arrangecoins(n):\n",
    "    k = 0\n",
    "    total = 0\n",
    "\n",
    "    while total<=n:\n",
    "        k+=1\n",
    "        total+=k\n",
    "\n",
    "    return k-1\n",
    "\n",
    "n=5\n",
    "print(arrangecoins(n))\n"
   ]
  },
  {
   "cell_type": "markdown",
   "id": "952a8bb3-e934-4d60-b264-146d6a8b6c0b",
   "metadata": {},
   "source": [
    "### 6.Given an integer array nums sorted in non-decreasing order, return an array of the squares of each number sorted in non-decreasing order.\n"
   ]
  },
  {
   "cell_type": "code",
   "execution_count": 41,
   "id": "029a93c6-1601-450d-bf2c-fc7e7213cb81",
   "metadata": {},
   "outputs": [
    {
     "name": "stdout",
     "output_type": "stream",
     "text": [
      "[0, 1, 9, 16, 100]\n"
     ]
    }
   ],
   "source": [
    "def sortedsquares(nums):\n",
    "    left= 0\n",
    "    right= len(nums) - 1\n",
    "    result= []\n",
    "\n",
    "    while left<=right:\n",
    "        if abs(nums[left])>=abs(nums[right]):\n",
    "            result.append(nums[left]**2)\n",
    "            left+= 1\n",
    "        else:\n",
    "            result.append(nums[right]**2)\n",
    "            right-= 1\n",
    "\n",
    "    return result[::-1]\n",
    "\n",
    "nums=[-4,-1,0,3,10]\n",
    "squaredsorted=sortedsquares(nums)\n",
    "print(squaredsorted)"
   ]
  },
  {
   "cell_type": "markdown",
   "id": "20ba259a-043a-4ef6-a3a1-05615546db2d",
   "metadata": {},
   "source": [
    "### 7.You are given an m x n matrix M initialized with all 0's and an array of operations ops, where ops[i] = [ai, bi] means M[x][y] should be incremented by one for all 0 <= x < ai and 0 <= y < bi.\n",
    "Count and return the number of maximum integers in the matrix after performing all the operations"
   ]
  },
  {
   "cell_type": "code",
   "execution_count": 42,
   "id": "9f1f7dc8-3813-4b1f-8cef-b9972927b8f8",
   "metadata": {},
   "outputs": [
    {
     "name": "stdout",
     "output_type": "stream",
     "text": [
      "4\n"
     ]
    }
   ],
   "source": [
    "def maxcount(m, n, ops):\n",
    "    max_row= m\n",
    "    max_col= n\n",
    "\n",
    "    for op in ops:\n",
    "        max_row=min(max_row, op[0])\n",
    "        max_col=min(max_col, op[1])\n",
    "\n",
    "    return max_row*max_col\n",
    "\n",
    "\n",
    "\n",
    "m= 3\n",
    "n= 3\n",
    "ops=[[2,2],\n",
    "    [3,3]]\n",
    "print(maxcount(m,n,ops))"
   ]
  },
  {
   "cell_type": "markdown",
   "id": "6dbe9798-5eb0-4703-b84d-980ccc80be8c",
   "metadata": {},
   "source": [
    "### 8.Given the array nums consisting of 2n elements in the form [x1,x2,...,xn,y1,y2,...,yn]. Return the array in the form[x1,y1,x2,y2,...,xn,yn]."
   ]
  },
  {
   "cell_type": "code",
   "execution_count": 44,
   "id": "a24a1cf1-5d27-47ba-8982-19ffffb7b23b",
   "metadata": {},
   "outputs": [
    {
     "name": "stdout",
     "output_type": "stream",
     "text": [
      "[2, 3, 5, 4, 1, 7]\n"
     ]
    }
   ],
   "source": [
    "def rearrangearray(nums):\n",
    "    n=len(nums)//2\n",
    "    result=[]\n",
    "\n",
    "    for i in range(n):\n",
    "        result.append(nums[i])\n",
    "        result.append(nums[i+n])\n",
    "\n",
    "    return result\n",
    "\n",
    "\n",
    "nums=[2,5,1,3,4,7]\n",
    "print(rearrangearray(nums))\n"
   ]
  },
  {
   "cell_type": "code",
   "execution_count": null,
   "id": "c212336c-86c4-4912-b64d-9e715e3f5dca",
   "metadata": {},
   "outputs": [],
   "source": []
  }
 ],
 "metadata": {
  "kernelspec": {
   "display_name": "Python 3 (ipykernel)",
   "language": "python",
   "name": "python3"
  },
  "language_info": {
   "codemirror_mode": {
    "name": "ipython",
    "version": 3
   },
   "file_extension": ".py",
   "mimetype": "text/x-python",
   "name": "python",
   "nbconvert_exporter": "python",
   "pygments_lexer": "ipython3",
   "version": "3.10.8"
  }
 },
 "nbformat": 4,
 "nbformat_minor": 5
}
