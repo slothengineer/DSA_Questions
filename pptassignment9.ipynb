{
 "cells": [
  {
   "cell_type": "markdown",
   "id": "f0936424-6ec7-4e14-a976-e40cdb30ea2d",
   "metadata": {},
   "source": [
    "### Given a 1-indexed array of integers numbers that are already sorted in non-decreasing order, find two numbers such that they add up to a specific target number. Let these two numbers be numbers[index1] and numbers[index2] where 1 <= index1 < index2 < numbers.length.\n",
    "Return the indices of the two numbers, index1, and index2, added by one as an integer array [index1, index2] of length 2.\n",
    "The tests are generated such that there is exactly one solution. You may not use the same element twice.\n",
    "Your solution must use only constant extra space.\n"
   ]
  },
  {
   "cell_type": "code",
   "execution_count": 6,
   "id": "9e031a0f-6081-4997-8100-57d208960026",
   "metadata": {},
   "outputs": [
    {
     "name": "stdout",
     "output_type": "stream",
     "text": [
      "[0, 1]\n"
     ]
    }
   ],
   "source": [
    "def twosum(nums,target):\n",
    "    left=0\n",
    "    right=len(nums)-1\n",
    "    while left<right:\n",
    "        currentsum=nums[left]+nums[right]\n",
    "        if currentsum==target:\n",
    "            return [left+1,right+1]\n",
    "        elif currentsum<target:\n",
    "            left+=1\n",
    "        else:\n",
    "            right-=1\n",
    "    return []\n",
    "\n",
    "numbers=[2,7,11,15]\n",
    "print(twosum(numbers,9))"
   ]
  },
  {
   "cell_type": "markdown",
   "id": "2fe7a2a2-8223-44e8-8878-425601b7b4be",
   "metadata": {},
   "source": [
    "### Given an array of integer nums sorted in non-decreasing order, find the starting and ending position of a given target value.\n",
    "If the target is not found in the array, return [-1, -1].\n",
    "You must write an algorithm with O(log n) runtime complexity\n"
   ]
  },
  {
   "cell_type": "code",
   "execution_count": 12,
   "id": "d65dc4a1-f052-4717-aba5-d1ed2f6a60e4",
   "metadata": {},
   "outputs": [
    {
     "name": "stdout",
     "output_type": "stream",
     "text": [
      "[3, 4]\n"
     ]
    }
   ],
   "source": [
    "def searchrange(nums,target):\n",
    "    def leftbound(nums,target):\n",
    "        left=0\n",
    "        right=len(nums)-1\n",
    "        while left<=right:\n",
    "            mid=(left+right)//2\n",
    "            if nums[mid]<target:\n",
    "                left=mid+1\n",
    "            else:\n",
    "                right=mid-1\n",
    "        return left\n",
    "    def rightbound(nums,target):\n",
    "        left=0\n",
    "        right=len(nums)-1\n",
    "        while left<=right:\n",
    "            mid=(left+right)//2\n",
    "            if nums[mid]<=target:\n",
    "                left=mid+1\n",
    "            else:\n",
    "                right=mid-1\n",
    "        return right\n",
    "    left_boundary = leftbound(nums, target)\n",
    "    right_boundary = rightbound(nums, target)\n",
    "\n",
    "    if left_boundary <= right_boundary:\n",
    "        return [left_boundary, right_boundary]\n",
    "    else:\n",
    "        return [-1, -1]\n",
    "    \n",
    "\n",
    "nums=[5,7,7,8,8,10]\n",
    "print(searchrange(nums,8))"
   ]
  },
  {
   "cell_type": "markdown",
   "id": "a52c0713-2f8a-46a5-b55a-c64e9ee570cc",
   "metadata": {},
   "source": [
    "### A peak element is an element that is strictly greater than its neighbors.\n",
    "Given a 0-indexed integer array nums, find a peak element, and return its index. If the array contains multiple peaks, return the index to any of the peaks.\n",
    "You may imagine that nums[-1] = nums[n] = -∞. In other words, an element is always considered to be strictly greater than a neighbor that is outside the array.\n",
    "You must write an algorithm that runs in O(log n) time\n"
   ]
  },
  {
   "cell_type": "code",
   "execution_count": null,
   "id": "f23d07ad-e12e-4b2a-ba67-1092d8f8c4ea",
   "metadata": {},
   "outputs": [
    {
     "name": "stdout",
     "output_type": "stream",
     "text": [
      "2\n"
     ]
    }
   ],
   "source": [
    "def peakelement(nums):\n",
    "    left=0\n",
    "    right=len(nums)-1\n",
    "    while left<right:\n",
    "        mid=(left+right)//2\n",
    "        if nums[mid]>nums[mid+1]:\n",
    "            right=mid\n",
    "        else:\n",
    "            left=mid+1\n",
    "    return left\n",
    "\n",
    "nums = [1,2,3,1]\n",
    "print(peakelement(nums))"
   ]
  },
  {
   "cell_type": "markdown",
   "id": "009192f1-3213-4693-a035-6211d9c61bbe",
   "metadata": {},
   "source": [
    "### Given a sorted array of distinct integers and a target value, return the index if the target is found. If not, return the index where it would be if it were inserted in order.\n",
    "You must write an algorithm with O(log n) runtime complexity.\n"
   ]
  },
  {
   "cell_type": "code",
   "execution_count": 2,
   "id": "46400ac8-6607-4c85-af96-0d8320c7fe6d",
   "metadata": {},
   "outputs": [
    {
     "name": "stdout",
     "output_type": "stream",
     "text": [
      "2\n"
     ]
    }
   ],
   "source": [
    "def searchinsert(nums,target):\n",
    "    left=0\n",
    "    right=len(nums)-1\n",
    "    while left<right:\n",
    "        mid=(left+right)//2\n",
    "        if nums[mid]==target:\n",
    "            return mid\n",
    "        elif nums[mid]<target:\n",
    "            left=mid+1\n",
    "        else:\n",
    "            right=mid-1\n",
    "    return left if nums[left] >= target else left + 1\n",
    "\n",
    "nums = [1,3,5,6]\n",
    "target = 5\n",
    "print(searchinsert(nums,target))"
   ]
  },
  {
   "cell_type": "markdown",
   "id": "2c8019ba-ad35-4d54-8111-9eeb59db5b17",
   "metadata": {},
   "source": [
    "### Find the majority element in the array. A majority element in an array A[] of size n is an element that appears more than n/2 times (and hence there is at most one such element). "
   ]
  },
  {
   "cell_type": "code",
   "execution_count": 3,
   "id": "bb9e9cd8-66f1-4902-bfe4-d1bdd060181e",
   "metadata": {},
   "outputs": [
    {
     "name": "stdout",
     "output_type": "stream",
     "text": [
      "4\n"
     ]
    }
   ],
   "source": [
    "def majorityelement(nums):\n",
    "    nums.sort()\n",
    "    mid_index=len(nums)//2\n",
    "    majorityelement=nums[mid_index]\n",
    "    count=0\n",
    "    \n",
    "    for i in nums:\n",
    "        if i==majorityelement:\n",
    "            count+=1\n",
    "    \n",
    "    if count>len(nums)//2:\n",
    "        return majorityelement\n",
    "    else:\n",
    "        return None\n",
    "    \n",
    "A=[3, 3, 4, 2, 4, 4, 2, 4, 4]\n",
    "print(majorityelement(A))"
   ]
  },
  {
   "cell_type": "markdown",
   "id": "e95dc530-ef76-422d-9122-a2b508a51194",
   "metadata": {},
   "source": [
    "### Given an array of integers, find the inversion of an array. Formally, two elements a[i] and a[j] form an inversion if a[i] > a[j] and i < j."
   ]
  },
  {
   "cell_type": "code",
   "execution_count": 4,
   "id": "483e7270-111e-45ab-8442-4c901596c4ad",
   "metadata": {},
   "outputs": [
    {
     "name": "stdout",
     "output_type": "stream",
     "text": [
      "[20, 80]\n"
     ]
    }
   ],
   "source": [
    "def find_common_elements(arr1, arr2, arr3):\n",
    "    result = []\n",
    "    pointer1, pointer2, pointer3 = 0, 0, 0\n",
    "\n",
    "    while pointer1 < len(arr1) and pointer2 < len(arr2) and pointer3 < len(arr3):\n",
    "        if arr1[pointer1] == arr2[pointer2] == arr3[pointer3]:\n",
    "            result.append(arr1[pointer1])\n",
    "            pointer1 += 1\n",
    "            pointer2 += 1\n",
    "            pointer3 += 1\n",
    "        elif arr1[pointer1] <= arr2[pointer2] and arr1[pointer1] <= arr3[pointer3]:\n",
    "            pointer1 += 1\n",
    "        elif arr2[pointer2] <= arr1[pointer1] and arr2[pointer2] <= arr3[pointer3]:\n",
    "            pointer2 += 1\n",
    "        else:\n",
    "            pointer3 += 1\n",
    "\n",
    "    return result\n",
    "\n",
    "\n",
    "arr1 = [1, 5, 10, 20, 40, 80]\n",
    "arr2 = [6, 7, 20, 80, 100]\n",
    "arr3 = [3, 4, 15, 20, 30, 70, 80, 120]\n",
    "result = find_common_elements(arr1, arr2, arr3)\n",
    "print(result)\n"
   ]
  },
  {
   "cell_type": "code",
   "execution_count": null,
   "id": "76d1771f-d175-4513-b2c2-620af2aced79",
   "metadata": {},
   "outputs": [],
   "source": []
  }
 ],
 "metadata": {
  "kernelspec": {
   "display_name": "Python 3 (ipykernel)",
   "language": "python",
   "name": "python3"
  },
  "language_info": {
   "codemirror_mode": {
    "name": "ipython",
    "version": 3
   },
   "file_extension": ".py",
   "mimetype": "text/x-python",
   "name": "python",
   "nbconvert_exporter": "python",
   "pygments_lexer": "ipython3",
   "version": "3.10.8"
  }
 },
 "nbformat": 4,
 "nbformat_minor": 5
}
