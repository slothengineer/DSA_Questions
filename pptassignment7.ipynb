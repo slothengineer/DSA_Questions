{
 "cells": [
  {
   "cell_type": "markdown",
   "id": "e8d3950b-9782-4e0c-8d44-d8907183c955",
   "metadata": {},
   "source": [
    "### 1.Given two strings s and t, determine if they are isomorphic.Two strings s and t are isomorphic if the characters in s can be replaced to get t.\n",
    "All occurrences of a character must be replaced with another character while preserving the order of characters. No two characters may map to the same character, but a character may map to itself."
   ]
  },
  {
   "cell_type": "code",
   "execution_count": 1,
   "id": "ee182316-b394-4ade-896d-15f810860eaf",
   "metadata": {},
   "outputs": [
    {
     "name": "stdout",
     "output_type": "stream",
     "text": [
      "True\n"
     ]
    }
   ],
   "source": [
    "def isomorphic(str1,str2):\n",
    "    if len(str1)!=len(str2):\n",
    "        return False\n",
    "    str1_map={}\n",
    "    str2_map={}\n",
    "    for i,j in zip(str1,str2):\n",
    "        if i not in str1_map and j not in str2_map:\n",
    "            str1_map[i]=j\n",
    "            str2_map[j]=i\n",
    "        elif str1_map.get(i)!=j or str2_map.get(j)!=i:\n",
    "            return False\n",
    "    return True\n",
    "\n",
    "\n",
    "s = \"egg\"\n",
    "t = \"add\"\n",
    "print(isomorphic(s,t))"
   ]
  },
  {
   "cell_type": "markdown",
   "id": "6971b0f0-10e1-46ad-8cb6-ccf059c67226",
   "metadata": {},
   "source": [
    "### 2.Given a string num which represents an integer, return true if num is a strobogrammatic number.A strobogrammatic number is a number that looks the same when rotated 180 degrees (looked at upside down)."
   ]
  },
  {
   "cell_type": "code",
   "execution_count": 2,
   "id": "41e75b4b-504d-442d-b977-4ce86b0668b7",
   "metadata": {},
   "outputs": [
    {
     "name": "stdout",
     "output_type": "stream",
     "text": [
      "True\n"
     ]
    }
   ],
   "source": [
    "def strobogrammatic(num):\n",
    "    left=0\n",
    "    right=len(num)-1\n",
    "    while left<=right:\n",
    "        if num[left] not in '01689' or num[right] not in '01689':\n",
    "            return False\n",
    "        if num[left]=='9' and num[right]!='6':\n",
    "            return False\n",
    "        if num[left]=='6' and num[right]!='9':\n",
    "            return False\n",
    "        if num[left]==num[right] not in '018':\n",
    "            return False\n",
    "        left+=1\n",
    "        right-=1\n",
    "    return True\n",
    "\n",
    "\n",
    "num='69'\n",
    "print(strobogrammatic(num))"
   ]
  },
  {
   "cell_type": "markdown",
   "id": "61e31085-c028-4bd7-9765-d7bb54363ba0",
   "metadata": {},
   "source": [
    "### 3.Given two non-negative integers, num1 and num2 represented as string, return the sum of num1 and num2 as a string.You must solve the problem without using any built-in library for handling large integers (such as BigInteger). You must also not convert the inputs to integers directly."
   ]
  },
  {
   "cell_type": "code",
   "execution_count": 10,
   "id": "7d832390-3d88-4f24-aa9c-10a8584f9ead",
   "metadata": {},
   "outputs": [
    {
     "name": "stdout",
     "output_type": "stream",
     "text": [
      "134\n"
     ]
    }
   ],
   "source": [
    "def addition(num1,num2):\n",
    "    result=\"\"\n",
    "    i=len(num1)-1\n",
    "    j=len(num2)-1\n",
    "    carry=0\n",
    "    while i>=0 or j>=0:\n",
    "        digits_sum=carry\n",
    "        if i>=0:\n",
    "            digits_sum+=ord(num1[i])-ord('0')\n",
    "            i-=1\n",
    "        if j>=0:\n",
    "            digits_sum+=ord(num2[j])-ord('0')\n",
    "            j-=1\n",
    "            \n",
    "            carry = digit_sum // 10\n",
    "            result = str(digit_sum % 10) + result\n",
    "            \n",
    "        if carry>0:\n",
    "            result=str(carry)+result\n",
    "    return result\n",
    "\n",
    "\n",
    "\n",
    "num1 = \"11\"\n",
    "num2 = \"123\"\n",
    "print(addStrings(num1,num2))           \n",
    "            \n",
    "        "
   ]
  },
  {
   "cell_type": "markdown",
   "id": "032c7686-d4e5-4e68-a9b4-345fe72630c6",
   "metadata": {},
   "source": [
    "### 4.Given a string s, reverse the order of characters in each word within a sentence while still preserving whitespace and initial word order."
   ]
  },
  {
   "cell_type": "code",
   "execution_count": 23,
   "id": "055a7386-8360-477c-a4ce-b1bf34b8987a",
   "metadata": {},
   "outputs": [
    {
     "name": "stdout",
     "output_type": "stream",
     "text": [
      "s'teL ekat edoCteeL tsetnoc\n"
     ]
    }
   ],
   "source": [
    "def reverseword(s):\n",
    "    words=s.split()\n",
    "    reversed_words=[]\n",
    "    \n",
    "    for word in words:\n",
    "        reversed_words.append(word[::-1])\n",
    "        \n",
    "    reversed_sentence=\" \".join(reversed_words)\n",
    "    return reversed_sentence\n",
    "\n",
    "s=\"Let's take LeetCode contest\"\n",
    "print(reverseword(s))\n"
   ]
  },
  {
   "cell_type": "markdown",
   "id": "54a3c845-880d-4b63-b084-f9797943f5a9",
   "metadata": {},
   "source": [
    "### 6.Given two strings s and goal, return true if and only if s can become goal after some number of shifts on s. A shift on s consists of moving the leftmost character of s to the rightmost position."
   ]
  },
  {
   "cell_type": "code",
   "execution_count": 26,
   "id": "cc06f8ee-1069-42e6-847a-cf0a0a51fb8d",
   "metadata": {},
   "outputs": [
    {
     "name": "stdout",
     "output_type": "stream",
     "text": [
      "True\n"
     ]
    }
   ],
   "source": [
    "def shifttogoal(s,goal):\n",
    "    if len(s)!=len(goal):\n",
    "        return False\n",
    "    concate=s+s\n",
    "    if goal in concate:\n",
    "        return True\n",
    "    else:\n",
    "        return False\n",
    "        \n",
    "        \n",
    "s = \"abcde\"\n",
    "goal = \"cdeab\" \n",
    "print(shifttogoal(s,goal))"
   ]
  },
  {
   "cell_type": "markdown",
   "id": "f468f674-c6f7-4dca-b3e0-4747ce90ec28",
   "metadata": {},
   "source": [
    "### 8.You are given an array coordinates, coordinates[i] = [x, y], where [x, y] represents the coordinate of a point. Check if these points make a straight line in the XY plane."
   ]
  },
  {
   "cell_type": "code",
   "execution_count": 32,
   "id": "2b96c61b-e190-40a4-9a60-379225daddf9",
   "metadata": {},
   "outputs": [
    {
     "name": "stdout",
     "output_type": "stream",
     "text": [
      "True\n"
     ]
    }
   ],
   "source": [
    "def is_straightline(coordinates):\n",
    "    if len(coordinates)<3:\n",
    "        return True\n",
    "    \n",
    "    x1,y1=coordinates[0]\n",
    "    x2,y2=coordinates[1]\n",
    "    if x2-x1!=0:\n",
    "        slope=(y2-y1)/(x2-x1)\n",
    "    else:\n",
    "        slope=float('inf')\n",
    "        \n",
    "    for i in range(2,len(coordinates)):\n",
    "        x, y=coordinates[i]\n",
    "        if x-x1!=0:\n",
    "            current_slope=(y-y1)/(x-x1)\n",
    "        else:\n",
    "            current_slope=float('inf')\n",
    "        \n",
    "        if current_slope!=slope:\n",
    "            return False\n",
    "    \n",
    "    return True\n",
    "\n",
    "\n",
    "coordinates = [[1,2],[2,3],[3,4],[4,5],[5,6],[6,7]]\n",
    "print(is_straightline(coordinates))"
   ]
  },
  {
   "cell_type": "code",
   "execution_count": 33,
   "id": "5d598ea6-8440-47f2-a5db-0625d8f60b19",
   "metadata": {},
   "outputs": [
    {
     "data": {
      "text/plain": [
       "[<matplotlib.lines.Line2D at 0x7fb8c7dcdea0>]"
      ]
     },
     "execution_count": 33,
     "metadata": {},
     "output_type": "execute_result"
    },
    {
     "data": {
      "image/png": "[encoded data removed]",
      "text/plain": [
       "<Figure size 640x480 with 1 Axes>"
      ]
     },
     "metadata": {},
     "output_type": "display_data"
    }
   ],
   "source": [
    "import matplotlib.pyplot as plt\n",
    "xs = [x[0] for x in coordinates]\n",
    "ys = [x[1] for x in coordinates]\n",
    "plt.plot(xs, ys)"
   ]
  },
  {
   "cell_type": "code",
   "execution_count": null,
   "id": "507f5e69-ac0d-484b-952e-10b91f53bb7f",
   "metadata": {},
   "outputs": [],
   "source": []
  }
 ],
 "metadata": {
  "kernelspec": {
   "display_name": "Python 3 (ipykernel)",
   "language": "python",
   "name": "python3"
  },
  "language_info": {
   "codemirror_mode": {
    "name": "ipython",
    "version": 3
   },
   "file_extension": ".py",
   "mimetype": "text/x-python",
   "name": "python",
   "nbconvert_exporter": "python",
   "pygments_lexer": "ipython3",
   "version": "3.10.8"
  }
 },
 "nbformat": 4,
 "nbformat_minor": 5
}
